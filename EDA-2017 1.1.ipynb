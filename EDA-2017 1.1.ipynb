{
 "cells": [
  {
   "cell_type": "code",
   "execution_count": 2,
   "metadata": {
    "collapsed": true
   },
   "outputs": [],
   "source": [
    "%matplotlib inline\n",
    "import os \n",
    "import pandas as pd\n",
    "from matplotlib import pyplot as plt\n",
    "import numpy as np\n",
    "import datetime\n",
    "import seaborn as sns\n",
    "\n",
    "accepted_original = pd.read_csv('accepted2017.csv', encoding = \"ISO-8859-1\")\n",
    "accepted = accepted_original"
   ]
  },
  {
   "cell_type": "code",
   "execution_count": 70,
   "metadata": {
    "collapsed": true
   },
   "outputs": [],
   "source": [
    "# Drop columns\n",
    "\n",
    "accepted = accepted.drop(['title', 'funded_amnt'], axis = 1)\n",
    "# accepted = accepted.drop(['title', 'funded_amnt', 'funded_amnt_inv'], axis = 1)\n",
    "\n",
    "# linear combination of other columns\n",
    "accepted = accepted.drop(['out_prncp_inv','total_rec_prncp','total_pymnt_inv'], axis = 1)\n",
    "\n",
    "# repeated information\n",
    "accepted = accepted.drop([\"fico_range_low\", \"last_fico_range_low\",\n",
    "                         'avg_cur_bal',\n",
    "                         'addr_state', 'initial_list_status', 'pymnt_plan',\n",
    "                         'application_type', 'hardship_flag', 'disbursement_method','debt_settlement_flag','sub_grade',\n",
    "                         'zip_code', 'id','policy_code','tax_liens', 'tax_liens'], axis = 1)\n"
   ]
  },
  {
   "cell_type": "code",
   "execution_count": 72,
   "metadata": {
    "collapsed": true
   },
   "outputs": [],
   "source": [
    "# Transform variables\n",
    "accepted['issue_d'] = pd.to_datetime(accepted.issue_d)\n",
    "accepted['last_pymnt_d'] = pd.to_datetime(accepted['last_pymnt_d'])\n",
    "accepted['issue_yr'] = accepted.issue_d.dt.year\n",
    "accepted['earliest_cr_line'] = pd.to_datetime(accepted.earliest_cr_line)\n",
    "\n",
    "accepted['early_cr_yr'] = accepted.earliest_cr_line.dt.year\n",
    "\n",
    "accepted.term = accepted.term.apply(str)\n",
    "accepted['term'] = accepted['term'].apply(lambda x: x.strip().split(\" \")[0])\n",
    "\n",
    "currentDate = accepted.last_pymnt_d.max() # Dec 01, 2017\n",
    "# accepted['ratio_prin']=  (accepted.total_pymnt - accepted.total_rec_int - accepted.total_rec_late_fee)/ accepted.loan_amnt\n",
    "# accepted['ratio_prin'] = 1- accepted['ratio_prin']"
   ]
  },
  {
   "cell_type": "code",
   "execution_count": 98,
   "metadata": {},
   "outputs": [
    {
     "data": {
      "text/plain": [
       "Timestamp('2017-12-01 00:00:00')"
      ]
     },
     "execution_count": 98,
     "metadata": {},
     "output_type": "execute_result"
    }
   ],
   "source": [
    "currentDate"
   ]
  },
  {
   "cell_type": "code",
   "execution_count": 73,
   "metadata": {},
   "outputs": [
    {
     "name": "stderr",
     "output_type": "stream",
     "text": [
      "D:\\Anaconda\\lib\\site-packages\\ipykernel_launcher.py:6: SettingWithCopyWarning: \n",
      "A value is trying to be set on a copy of a slice from a DataFrame\n",
      "\n",
      "See the caveats in the documentation: http://pandas.pydata.org/pandas-docs/stable/indexing.html#indexing-view-versus-copy\n",
      "  \n",
      "D:\\Anaconda\\lib\\site-packages\\ipykernel_launcher.py:10: SettingWithCopyWarning: \n",
      "A value is trying to be set on a copy of a slice from a DataFrame\n",
      "\n",
      "See the caveats in the documentation: http://pandas.pydata.org/pandas-docs/stable/indexing.html#indexing-view-versus-copy\n",
      "  # Remove the CWD from sys.path while we load stuff.\n"
     ]
    }
   ],
   "source": [
    "leq1mil = accepted['annual_inc'] <= 1e6\n",
    "accepted = accepted[leq1mil]\n",
    "accepted = accepted[accepted.dti < 100.0]\n",
    "\n",
    "accepted.emp_length[accepted.emp_length == '10+ years'] = '10 years'\n",
    "accepted.emp_length[accepted.emp_length == '< 1 year'] = '0 year'\n",
    "accepted.emp_length = accepted.emp_length.apply(lambda x: int(x.split(' ')[0]))\n",
    "\n",
    "accepted.emp_title = accepted.emp_title.apply(lambda x: x.strip().lower())\n",
    "accepted.emp_title[(accepted.emp_title == 'registered nurse') | (accepted.emp_title == 'rn')] = 'nurse'\n",
    "\n",
    "accepted.home_ownership = accepted.home_ownership.replace(['ANY', 'NONE'], 'RENT')\n",
    "\n",
    "accepted['target'] = 1\n",
    "accepted.loc[(accepted.loan_status == 'Current') |(accepted.loan_status == 'Fully Paid') | (accepted.loan_status == 'In Grace Period'),\n",
    "      'target'] = 0\n"
   ]
  },
  {
   "cell_type": "markdown",
   "metadata": {},
   "source": [
    "### Income distribution\n",
    "Because of the large number of observations that we have, we can construct a reliable distribution of annual incomes. Because people will most likely lie on their incomes when their income is low, we can filter out for data if:\n",
    "- Income is lower than a limit\n",
    "- Income is higher than limit but has been verified by Lending Club\n",
    "\n",
    "The choice of limit of $70,000 is arbitrary. The choice to show only professions for which we have more than 400 is have an accurate picture of the distribution and to include certain profession of interest like *police officer*."
   ]
  },
  {
   "cell_type": "code",
   "execution_count": 6,
   "metadata": {},
   "outputs": [
    {
     "data": {
      "text/html": [
       "<div>\n",
       "<style>\n",
       "    .dataframe thead tr:only-child th {\n",
       "        text-align: right;\n",
       "    }\n",
       "\n",
       "    .dataframe thead th {\n",
       "        text-align: left;\n",
       "    }\n",
       "\n",
       "    .dataframe tbody tr th {\n",
       "        vertical-align: top;\n",
       "    }\n",
       "</style>\n",
       "<table border=\"1\" class=\"dataframe\">\n",
       "  <thead>\n",
       "    <tr style=\"text-align: right;\">\n",
       "      <th></th>\n",
       "      <th>mean</th>\n",
       "      <th>median</th>\n",
       "      <th>min</th>\n",
       "      <th>max</th>\n",
       "      <th>count</th>\n",
       "    </tr>\n",
       "    <tr>\n",
       "      <th>emp_title</th>\n",
       "      <th></th>\n",
       "      <th></th>\n",
       "      <th></th>\n",
       "      <th></th>\n",
       "      <th></th>\n",
       "    </tr>\n",
       "  </thead>\n",
       "  <tbody>\n",
       "    <tr>\n",
       "      <th>teacher</th>\n",
       "      <td>55,043.65</td>\n",
       "      <td>54,000.00</td>\n",
       "      <td>8,000.00</td>\n",
       "      <td>156,000.00</td>\n",
       "      <td>5156</td>\n",
       "    </tr>\n",
       "    <tr>\n",
       "      <th>manager</th>\n",
       "      <td>62,122.41</td>\n",
       "      <td>55,000.00</td>\n",
       "      <td>12,000.00</td>\n",
       "      <td>500,000.00</td>\n",
       "      <td>3941</td>\n",
       "    </tr>\n",
       "    <tr>\n",
       "      <th>nurse</th>\n",
       "      <td>68,640.56</td>\n",
       "      <td>62,000.00</td>\n",
       "      <td>13,000.00</td>\n",
       "      <td>300,000.00</td>\n",
       "      <td>3463</td>\n",
       "    </tr>\n",
       "    <tr>\n",
       "      <th>owner</th>\n",
       "      <td>68,771.41</td>\n",
       "      <td>54,000.00</td>\n",
       "      <td>8,400.00</td>\n",
       "      <td>1,000,000.00</td>\n",
       "      <td>2841</td>\n",
       "    </tr>\n",
       "    <tr>\n",
       "      <th>driver</th>\n",
       "      <td>53,794.78</td>\n",
       "      <td>52,000.00</td>\n",
       "      <td>11,000.00</td>\n",
       "      <td>180,000.00</td>\n",
       "      <td>2277</td>\n",
       "    </tr>\n",
       "    <tr>\n",
       "      <th>supervisor</th>\n",
       "      <td>56,885.79</td>\n",
       "      <td>55,000.00</td>\n",
       "      <td>10,000.00</td>\n",
       "      <td>745,000.00</td>\n",
       "      <td>2212</td>\n",
       "    </tr>\n",
       "    <tr>\n",
       "      <th>office manager</th>\n",
       "      <td>49,536.38</td>\n",
       "      <td>49,500.00</td>\n",
       "      <td>7,992.00</td>\n",
       "      <td>255,000.00</td>\n",
       "      <td>1657</td>\n",
       "    </tr>\n",
       "    <tr>\n",
       "      <th>sales</th>\n",
       "      <td>62,862.41</td>\n",
       "      <td>55,000.00</td>\n",
       "      <td>12,000.00</td>\n",
       "      <td>471,000.00</td>\n",
       "      <td>1583</td>\n",
       "    </tr>\n",
       "    <tr>\n",
       "      <th>truck driver</th>\n",
       "      <td>58,677.80</td>\n",
       "      <td>58,000.00</td>\n",
       "      <td>14,000.00</td>\n",
       "      <td>435,000.00</td>\n",
       "      <td>1285</td>\n",
       "    </tr>\n",
       "    <tr>\n",
       "      <th>general manager</th>\n",
       "      <td>73,290.71</td>\n",
       "      <td>60,000.00</td>\n",
       "      <td>18,250.00</td>\n",
       "      <td>500,000.00</td>\n",
       "      <td>1006</td>\n",
       "    </tr>\n",
       "    <tr>\n",
       "      <th>administrative assistant</th>\n",
       "      <td>43,985.17</td>\n",
       "      <td>42,000.00</td>\n",
       "      <td>8,600.00</td>\n",
       "      <td>110,000.00</td>\n",
       "      <td>895</td>\n",
       "    </tr>\n",
       "    <tr>\n",
       "      <th>technician</th>\n",
       "      <td>51,738.53</td>\n",
       "      <td>50,000.00</td>\n",
       "      <td>19,000.00</td>\n",
       "      <td>150,000.00</td>\n",
       "      <td>818</td>\n",
       "    </tr>\n",
       "    <tr>\n",
       "      <th>project manager</th>\n",
       "      <td>79,482.37</td>\n",
       "      <td>65,720.00</td>\n",
       "      <td>26,000.00</td>\n",
       "      <td>460,000.00</td>\n",
       "      <td>808</td>\n",
       "    </tr>\n",
       "    <tr>\n",
       "      <th>assistant manager</th>\n",
       "      <td>45,683.12</td>\n",
       "      <td>45,760.00</td>\n",
       "      <td>10,800.00</td>\n",
       "      <td>141,000.00</td>\n",
       "      <td>793</td>\n",
       "    </tr>\n",
       "    <tr>\n",
       "      <th>server</th>\n",
       "      <td>40,262.52</td>\n",
       "      <td>40,000.00</td>\n",
       "      <td>7,200.00</td>\n",
       "      <td>98,000.00</td>\n",
       "      <td>761</td>\n",
       "    </tr>\n",
       "    <tr>\n",
       "      <th>store manager</th>\n",
       "      <td>58,240.90</td>\n",
       "      <td>53,000.00</td>\n",
       "      <td>20,000.00</td>\n",
       "      <td>200,000.00</td>\n",
       "      <td>697</td>\n",
       "    </tr>\n",
       "    <tr>\n",
       "      <th>customer service</th>\n",
       "      <td>41,167.55</td>\n",
       "      <td>40,000.00</td>\n",
       "      <td>10,000.00</td>\n",
       "      <td>95,000.00</td>\n",
       "      <td>689</td>\n",
       "    </tr>\n",
       "    <tr>\n",
       "      <th>accountant</th>\n",
       "      <td>57,844.07</td>\n",
       "      <td>55,000.00</td>\n",
       "      <td>21,840.00</td>\n",
       "      <td>230,000.00</td>\n",
       "      <td>645</td>\n",
       "    </tr>\n",
       "    <tr>\n",
       "      <th>operations manager</th>\n",
       "      <td>69,880.38</td>\n",
       "      <td>62,000.00</td>\n",
       "      <td>16,000.00</td>\n",
       "      <td>315,000.00</td>\n",
       "      <td>643</td>\n",
       "    </tr>\n",
       "    <tr>\n",
       "      <th>president</th>\n",
       "      <td>135,535.26</td>\n",
       "      <td>100,000.00</td>\n",
       "      <td>12,000.00</td>\n",
       "      <td>800,000.00</td>\n",
       "      <td>632</td>\n",
       "    </tr>\n",
       "    <tr>\n",
       "      <th>mechanic</th>\n",
       "      <td>56,621.73</td>\n",
       "      <td>54,000.00</td>\n",
       "      <td>16,000.00</td>\n",
       "      <td>200,000.00</td>\n",
       "      <td>608</td>\n",
       "    </tr>\n",
       "    <tr>\n",
       "      <th>director</th>\n",
       "      <td>123,729.34</td>\n",
       "      <td>95,146.00</td>\n",
       "      <td>15,000.00</td>\n",
       "      <td>1,000,000.00</td>\n",
       "      <td>560</td>\n",
       "    </tr>\n",
       "    <tr>\n",
       "      <th>machine operator</th>\n",
       "      <td>46,231.86</td>\n",
       "      <td>44,000.00</td>\n",
       "      <td>12,286.17</td>\n",
       "      <td>160,000.00</td>\n",
       "      <td>541</td>\n",
       "    </tr>\n",
       "    <tr>\n",
       "      <th>account manager</th>\n",
       "      <td>61,474.96</td>\n",
       "      <td>56,000.00</td>\n",
       "      <td>22,880.00</td>\n",
       "      <td>225,000.00</td>\n",
       "      <td>520</td>\n",
       "    </tr>\n",
       "    <tr>\n",
       "      <th>sales manager</th>\n",
       "      <td>94,266.39</td>\n",
       "      <td>65,000.00</td>\n",
       "      <td>14,400.00</td>\n",
       "      <td>1,000,000.00</td>\n",
       "      <td>503</td>\n",
       "    </tr>\n",
       "    <tr>\n",
       "      <th>paralegal</th>\n",
       "      <td>53,934.49</td>\n",
       "      <td>54,000.00</td>\n",
       "      <td>15,000.00</td>\n",
       "      <td>160,000.00</td>\n",
       "      <td>490</td>\n",
       "    </tr>\n",
       "    <tr>\n",
       "      <th>medical assistant</th>\n",
       "      <td>38,661.63</td>\n",
       "      <td>37,050.00</td>\n",
       "      <td>10,000.00</td>\n",
       "      <td>75,000.00</td>\n",
       "      <td>482</td>\n",
       "    </tr>\n",
       "    <tr>\n",
       "      <th>maintenance</th>\n",
       "      <td>47,040.28</td>\n",
       "      <td>45,000.00</td>\n",
       "      <td>15,000.00</td>\n",
       "      <td>130,000.00</td>\n",
       "      <td>475</td>\n",
       "    </tr>\n",
       "    <tr>\n",
       "      <th>clerk</th>\n",
       "      <td>47,808.29</td>\n",
       "      <td>48,696.50</td>\n",
       "      <td>10,000.00</td>\n",
       "      <td>185,000.00</td>\n",
       "      <td>464</td>\n",
       "    </tr>\n",
       "    <tr>\n",
       "      <th>police officer</th>\n",
       "      <td>73,005.98</td>\n",
       "      <td>63,000.00</td>\n",
       "      <td>32,000.00</td>\n",
       "      <td>307,000.00</td>\n",
       "      <td>461</td>\n",
       "    </tr>\n",
       "    <tr>\n",
       "      <th>engineer</th>\n",
       "      <td>87,340.76</td>\n",
       "      <td>80,000.00</td>\n",
       "      <td>22,000.00</td>\n",
       "      <td>265,000.00</td>\n",
       "      <td>461</td>\n",
       "    </tr>\n",
       "    <tr>\n",
       "      <th>lpn</th>\n",
       "      <td>46,930.93</td>\n",
       "      <td>46,400.00</td>\n",
       "      <td>15,000.00</td>\n",
       "      <td>110,000.00</td>\n",
       "      <td>460</td>\n",
       "    </tr>\n",
       "  </tbody>\n",
       "</table>\n",
       "</div>"
      ],
      "text/plain": [
       "                               mean     median       min          max  count\n",
       "emp_title                                                                   \n",
       "teacher                   55,043.65  54,000.00  8,000.00   156,000.00   5156\n",
       "manager                   62,122.41  55,000.00 12,000.00   500,000.00   3941\n",
       "nurse                     68,640.56  62,000.00 13,000.00   300,000.00   3463\n",
       "owner                     68,771.41  54,000.00  8,400.00 1,000,000.00   2841\n",
       "driver                    53,794.78  52,000.00 11,000.00   180,000.00   2277\n",
       "supervisor                56,885.79  55,000.00 10,000.00   745,000.00   2212\n",
       "office manager            49,536.38  49,500.00  7,992.00   255,000.00   1657\n",
       "sales                     62,862.41  55,000.00 12,000.00   471,000.00   1583\n",
       "truck driver              58,677.80  58,000.00 14,000.00   435,000.00   1285\n",
       "general manager           73,290.71  60,000.00 18,250.00   500,000.00   1006\n",
       "administrative assistant  43,985.17  42,000.00  8,600.00   110,000.00    895\n",
       "technician                51,738.53  50,000.00 19,000.00   150,000.00    818\n",
       "project manager           79,482.37  65,720.00 26,000.00   460,000.00    808\n",
       "assistant manager         45,683.12  45,760.00 10,800.00   141,000.00    793\n",
       "server                    40,262.52  40,000.00  7,200.00    98,000.00    761\n",
       "store manager             58,240.90  53,000.00 20,000.00   200,000.00    697\n",
       "customer service          41,167.55  40,000.00 10,000.00    95,000.00    689\n",
       "accountant                57,844.07  55,000.00 21,840.00   230,000.00    645\n",
       "operations manager        69,880.38  62,000.00 16,000.00   315,000.00    643\n",
       "president                135,535.26 100,000.00 12,000.00   800,000.00    632\n",
       "mechanic                  56,621.73  54,000.00 16,000.00   200,000.00    608\n",
       "director                 123,729.34  95,146.00 15,000.00 1,000,000.00    560\n",
       "machine operator          46,231.86  44,000.00 12,286.17   160,000.00    541\n",
       "account manager           61,474.96  56,000.00 22,880.00   225,000.00    520\n",
       "sales manager             94,266.39  65,000.00 14,400.00 1,000,000.00    503\n",
       "paralegal                 53,934.49  54,000.00 15,000.00   160,000.00    490\n",
       "medical assistant         38,661.63  37,050.00 10,000.00    75,000.00    482\n",
       "maintenance               47,040.28  45,000.00 15,000.00   130,000.00    475\n",
       "clerk                     47,808.29  48,696.50 10,000.00   185,000.00    464\n",
       "police officer            73,005.98  63,000.00 32,000.00   307,000.00    461\n",
       "engineer                  87,340.76  80,000.00 22,000.00   265,000.00    461\n",
       "lpn                       46,930.93  46,400.00 15,000.00   110,000.00    460"
      ]
     },
     "execution_count": 6,
     "metadata": {},
     "output_type": "execute_result"
    }
   ],
   "source": [
    "pd.options.display.float_format = '{:,.2f}'.format\n",
    "salary_limit = 7e4\n",
    "emp_annual_all = accepted.loc[(accepted['annual_inc'] < salary_limit) | ((accepted['annual_inc'] >= salary_limit) & (accepted['verification_status'] == 'Verified')),\n",
    "                              ['emp_title','annual_inc']].groupby('emp_title')\n",
    "summ_inc = emp_annual_all.agg(['mean','median','min','max', 'count'])\n",
    "summ_inc.columns = summ_inc.columns.levels[1]\n",
    "summ_inc = summ_inc.sort_values(by = ['count','min'], ascending = False)\n",
    "summ_inc = summ_inc[summ_inc['count'] >= 450].sort_values(by = ['count','min'], ascending = False)\n",
    "\n",
    "summ_inc"
   ]
  },
  {
   "cell_type": "markdown",
   "metadata": {},
   "source": [
    "### Fico Range and grade"
   ]
  },
  {
   "cell_type": "code",
   "execution_count": 7,
   "metadata": {},
   "outputs": [
    {
     "name": "stderr",
     "output_type": "stream",
     "text": [
      "D:\\Anaconda\\lib\\site-packages\\numpy\\core\\fromnumeric.py:57: FutureWarning: reshape is deprecated and will raise in a subsequent release. Please use .values.reshape(...) instead\n",
      "  return getattr(obj, method)(*args, **kwds)\n"
     ]
    },
    {
     "data": {
      "text/plain": [
       "<matplotlib.axes._subplots.AxesSubplot at 0x20603ce7f98>"
      ]
     },
     "execution_count": 7,
     "metadata": {},
     "output_type": "execute_result"
    },
    {
     "data": {
      "image/png": "[encoded data removed]",
      "text/plain": [
       "<matplotlib.figure.Figure at 0x20603d04ba8>"
      ]
     },
     "metadata": {},
     "output_type": "display_data"
    }
   ],
   "source": [
    "accepted.boxplot(by = 'grade', column = 'fico_range_high')"
   ]
  },
  {
   "cell_type": "code",
   "execution_count": 11,
   "metadata": {},
   "outputs": [
    {
     "name": "stderr",
     "output_type": "stream",
     "text": [
      "D:\\Anaconda\\lib\\site-packages\\ipykernel_launcher.py:2: SettingWithCopyWarning: \n",
      "A value is trying to be set on a copy of a slice from a DataFrame.\n",
      "Try using .loc[row_indexer,col_indexer] = value instead\n",
      "\n",
      "See the caveats in the documentation: http://pandas.pydata.org/pandas-docs/stable/indexing.html#indexing-view-versus-copy\n",
      "  \n"
     ]
    },
    {
     "data": {
      "text/plain": [
       "Text(0,0.5,'FICO change at observation')"
      ]
     },
     "execution_count": 11,
     "metadata": {},
     "output_type": "execute_result"
    },
    {
     "data": {
      "image/png": "[encoded data removed]",
      "text/plain": [
       "<matplotlib.figure.Figure at 0x1660dd26cc0>"
      ]
     },
     "metadata": {},
     "output_type": "display_data"
    }
   ],
   "source": [
    "fico_change_loanstat = accepted[['fico_range_high','last_fico_range_high','loan_status','target']]\n",
    "fico_change_loanstat['change'] = fico_change_loanstat.last_fico_range_high - fico_change_loanstat.fico_range_high\n",
    "\n",
    "chargeoff = accepted['target'] == 1\n",
    "\n",
    "plt.scatter(x = 'fico_range_high', y = 'change', data = fico_change_loanstat[~chargeoff], color = 'r', alpha = 0.1, label = \"Good loans\")\n",
    "plt.scatter(x = 'fico_range_high', y = 'change', data = fico_change_loanstat[chargeoff], color = 'b', alpha = 0.2, label = \"Bad loans\")\n",
    "plt.legend()\n",
    "plt.xlabel(\"FICO at origination\")\n",
    "plt.ylabel(\"FICO change at observation\")\n"
   ]
  },
  {
   "cell_type": "markdown",
   "metadata": {},
   "source": [
    "### Modeling\n",
    "If the default status is our variable of interest, we have 2 ways to approach this problem:\n",
    "- Use a classification approach to see whether the loan is default or not\n",
    "- Use a survival approach"
   ]
  },
  {
   "cell_type": "code",
   "execution_count": 104,
   "metadata": {},
   "outputs": [],
   "source": [
    "########\n",
    "# Option 1 - no lookahead\n",
    "########\n",
    "def GetXY_1(accepted):\n",
    "    train = accepted.loc[(accepted['annual_inc'] < salary_limit) | ((accepted['annual_inc'] >= salary_limit) & (accepted['verification_status'] == 'Verified'))]\n",
    "\n",
    "    train = train[train.loan_status != 'Current']\n",
    "\n",
    "    lookAheadFeatures = [\"out_prncp\",\"out_prncp_inv\",\"total_pymnt\",\"total_pymnt_inv\",\n",
    "                         \"total_rec_prncp\",\"total_rec_int\",\"total_rec_late_fee\",\n",
    "                         \"recoveries\",\"collection_recovery_fee\",\"last_pymnt_d\",\n",
    "                         \"last_pymnt_amnt\",\"last_credit_pull_d\",\n",
    "                         \"last_fico_range_high\",\"collections_12_mths_ex_med\",\"tot_coll_amt\"]\n",
    "\n",
    "    for feature in lookAheadFeatures:\n",
    "        if feature in train.columns:\n",
    "            train = train.drop(feature, axis = 1)\n",
    "\n",
    "    train['early_cr_line_month'] = -round((train.earliest_cr_line - currentDate) / np.timedelta64(1, 'M'))\n",
    "    \n",
    "    train = train.drop(['issue_yr','issue_d', 'purpose','emp_title',\n",
    "                        'earliest_cr_line','verification_status'], axis = 1)\n",
    "    train = pd.get_dummies(train, columns = ['term','grade','home_ownership'], drop_first = True)\n",
    "    X = train.drop(['loan_status', 'target'], axis = 1)\n",
    "    y = train.target\n",
    "    \n",
    "    return X, y\n"
   ]
  },
  {
   "cell_type": "code",
   "execution_count": 83,
   "metadata": {},
   "outputs": [],
   "source": [
    "########\n",
    "# Option 2\n",
    "# Feature from Vincenzo Pota\n",
    "########\n",
    "\n",
    "def GetXY_2(accepted):\n",
    "    features = ['loan_amnt', \n",
    "                # 'amt_difference', \n",
    "                'term', 'installment', 'grade','emp_length',\n",
    "                'home_ownership', 'annual_inc',\n",
    "                'purpose', 'dti', \n",
    "                'delinq_2yrs','inq_last_6mths',\n",
    "                # 'pub_rec_cat', 'acc_ratio', \n",
    "                # 'delinq_2yrs_cat', 'inq_last_6mths_cat', 'pub_rec_cat', 'acc_ratio', \n",
    "                'open_acc', 'pub_rec', \n",
    "                # 'initial_list_status',  \n",
    "                'loan_status', 'target'\n",
    "               ]\n",
    "\n",
    "    train = accepted.loc[(accepted['annual_inc'] < salary_limit) | ((accepted['annual_inc'] >= salary_limit) & (accepted['verification_status'] == 'Verified'))]\n",
    "\n",
    "    train = train[train.loan_status != 'Current']\n",
    "    train = train[features]\n",
    "\n",
    "    train = pd.get_dummies(train, columns = ['term','grade','home_ownership','purpose'], drop_first = True)\n",
    "    X = train.drop(['loan_status', 'target'], axis = 1)\n",
    "    y = train.target\n",
    "    \n",
    "    return X, y\n"
   ]
  },
  {
   "cell_type": "code",
   "execution_count": 99,
   "metadata": {},
   "outputs": [],
   "source": [
    "########\n",
    "#\n",
    "# Option 3: Training with lookahead features\n",
    "#\n",
    "########\n",
    "def GetXY_3(accepted):\n",
    "    train = accepted.loc[(accepted['annual_inc'] < salary_limit) | ((accepted['annual_inc'] >= salary_limit) & (accepted['verification_status'] == 'Verified'))]\n",
    "    # train = train[train.loan_status != \"Current\"]\n",
    "\n",
    "    train['loan_seasoning'] = (train.issue_d - train.last_pymnt_d)/np.timedelta64(1, 'M')\n",
    "    train['loan_seasoning'] = - train['loan_seasoning']/train['term'].apply(float)\n",
    "\n",
    "    train['early_cr_line_month'] = -round((train.earliest_cr_line - currentDate) / np.timedelta64(1, 'M'))\n",
    "\n",
    "    #money_amnt = ['loan_amnt','tot_hi_cred_lim', 'total_bc_limit', 'total_il_high_credit_limit','total_rev_hi_lim', \n",
    "    #              'total_bal_ex_mort', 'revol_bal','tot_cur_bal',\n",
    "    #              'bc_open_to_buy',  \n",
    "    #              'out_prncp','total_pymnt','total_rec_int','total_rec_late_fee','recoveries','collection_recovery_fee']\n",
    "    #\n",
    "    #for x in money_amnt:\n",
    "    #    train[\"pct_\" + x] = train[x] / train['annual_inc']\n",
    "\n",
    "    train[\"pct_\" + 'tot_coll_amt'] = train['tot_coll_amt'] / train['annual_inc']\n",
    "\n",
    "    train['installment_pct'] = train['installment'] * 12 / train['annual_inc'] # installment as a percentage of annual_inc/ 12\n",
    "    train['fico_change'] = train.fico_range_high - train.last_fico_range_high\n",
    "\n",
    "    #train = train.drop(money_amnt + ['installment', 'tot_coll_amt'], axis = 1)\n",
    "    #train = train.drop('ratio_prin', axis = 1)\n",
    "    train = train.drop('last_fico_range_high', axis = 1)\n",
    "\n",
    "    train = train.drop(['issue_yr','issue_d', 'purpose','emp_title',\n",
    "                        'earliest_cr_line','verification_status'], axis = 1)\n",
    "\n",
    "    train = train.drop('last_credit_pull_d', axis = 1)\n",
    "\n",
    "    train = train.drop(['last_pymnt_d','last_pymnt_amnt'],axis = 1)\n",
    "\n",
    "    train = pd.get_dummies(train, columns = ['term','grade','home_ownership'], drop_first = True)\n",
    "    \n",
    "    X = train.drop(['loan_status', 'target'], axis = 1)\n",
    "    y = train.target\n",
    "    return X, y"
   ]
  },
  {
   "cell_type": "markdown",
   "metadata": {},
   "source": [
    "We need to create training and testing data"
   ]
  },
  {
   "cell_type": "code",
   "execution_count": 105,
   "metadata": {},
   "outputs": [
    {
     "name": "stderr",
     "output_type": "stream",
     "text": [
      "D:\\Anaconda\\lib\\site-packages\\sklearn\\utils\\deprecation.py:77: DeprecationWarning: Function _ratio_float is deprecated; Use a float for 'ratio' is deprecated from version 0.2. The support will be removed in 0.4. Use a dict, str, or a callable instead.\n",
      "  warnings.warn(msg, category=DeprecationWarning)\n"
     ]
    }
   ],
   "source": [
    "from imblearn.over_sampling import SMOTE\n",
    "from sklearn.preprocessing import StandardScaler\n",
    "from sklearn.model_selection import train_test_split\n",
    "\n",
    "scaler = StandardScaler()\n",
    "   \n",
    "sm = SMOTE(random_state = 0, ratio = 1.0) \n",
    "X, y = GetXY_1(accepted)\n",
    "X_train, X_test, y_train, y_test = train_test_split(X, y, test_size=0.4, random_state=0)\n",
    "\n",
    "X_train_scaled = scaler.fit_transform(X_train)\n",
    "X_train_smote, y_train_smote = sm.fit_sample(X_train_scaled, y_train)\n",
    "X_test_scaled = scaler.transform(X_test)\n"
   ]
  },
  {
   "cell_type": "markdown",
   "metadata": {},
   "source": [
    "Evaluate the model:"
   ]
  },
  {
   "cell_type": "code",
   "execution_count": 77,
   "metadata": {},
   "outputs": [],
   "source": [
    "from sklearn import metrics\n",
    "from sklearn.ensemble import RandomForestClassifier, GradientBoostingClassifier\n",
    "from sklearn.naive_bayes import GaussianNB\n",
    "from sklearn.linear_model import SGDClassifier\n",
    "import timeit\n",
    "from sklearn.externals import joblib\n",
    "\n",
    "def run_models(X_train, y_train, X_test, y_test, date_txt, model_type = 'Non-balanced'):\n",
    "    # Thanks to Vince Pota for the code\n",
    "    # https://www.kaggle.com/vincepota/predicting-customers-who-will-charge-off\n",
    "    clfs = {\n",
    "        'SGDClassifier' : SGDClassifier(loss=\"log\"),\n",
    "        # Logistic Regression L1 takes more than an hour to train\n",
    "        'GradientBoosting': GradientBoostingClassifier(max_depth= 6, n_estimators=100, max_features = 0.3),\n",
    "        'GaussianNB': GaussianNB(),\n",
    "        'RandomForestClassifier': RandomForestClassifier(n_estimators=500, max_depth = 3)\n",
    "    }\n",
    "    cols = ['model','matthews_corrcoef', 'roc_auc_score', 'precision_score', 'recall_score','f1_score']\n",
    "\n",
    "    models_report = pd.DataFrame(columns = cols)\n",
    "    conf_matrix = dict()\n",
    "\n",
    "    for clf, clf_name in zip(clfs.values(), clfs.keys()):\n",
    "        start = timeit.default_timer()\n",
    "        clf.fit(X_train, y_train)\n",
    "\n",
    "        y_pred = clf.predict(X_test)\n",
    "        y_score = clf.predict_proba(X_test)[:,1]\n",
    "\n",
    "        stop = timeit.default_timer()\n",
    "        print('Run time is', stop - start)\n",
    "        print('computing {} - {} '.format(clf_name, model_type))\n",
    "\n",
    "        tmp = pd.Series({'model_type': model_type,\n",
    "                         'model': clf_name,\n",
    "                         'roc_auc_score' : metrics.roc_auc_score(y_test, y_score),\n",
    "                         'matthews_corrcoef': metrics.matthews_corrcoef(y_test, y_pred),\n",
    "                         'precision_score': metrics.precision_score(y_test, y_pred),\n",
    "                         'recall_score': metrics.recall_score(y_test, y_pred),\n",
    "                         'f1_score': metrics.f1_score(y_test, y_pred)})\n",
    "\n",
    "        models_report = models_report.append(tmp, ignore_index = True)\n",
    "        conf_matrix[clf_name] = pd.crosstab(y_test, y_pred, rownames=['True'], colnames= ['Predicted'], margins=False)\n",
    "        fpr, tpr, thresholds = metrics.roc_curve(y_test, y_score, drop_intermediate = False, pos_label = 1)\n",
    "        \n",
    "        # Dump model as file to be used later \n",
    "        \n",
    "        logistic = joblib.dump(clf, clf_name + '.'+ date_txt + '.pkl')\n",
    "        np.savetxt(clf_name + \"_y_score\" + date_txt + \".csv\", y_score, delimiter=\",\")\n",
    "        \n",
    "        plt.figure(1, figsize=(6,6))\n",
    "        plt.xlabel('false positive rate')\n",
    "        plt.ylabel('true positive rate')\n",
    "        plt.title('ROC curve - {}'.format(model_type))\n",
    "        plt.plot(fpr, tpr, label = clf_name )\n",
    "        plt.legend(loc=2, prop={'size':11})\n",
    "    plt.plot([0,1],[0,1], color = 'black')\n",
    "    \n",
    "    return models_report, conf_matrix, clfs"
   ]
  },
  {
   "cell_type": "code",
   "execution_count": 106,
   "metadata": {},
   "outputs": [
    {
     "name": "stderr",
     "output_type": "stream",
     "text": [
      "D:\\Anaconda\\lib\\site-packages\\sklearn\\linear_model\\stochastic_gradient.py:128: FutureWarning: max_iter and tol parameters have been added in <class 'sklearn.linear_model.stochastic_gradient.SGDClassifier'> in 0.19. If both are left unset, they default to max_iter=5 and tol=None. If tol is not None, max_iter defaults to max_iter=1000. From 0.21, default max_iter will be 1000, and default tol will be 1e-3.\n",
      "  \"and default tol will be 1e-3.\" % type(self), FutureWarning)\n"
     ]
    },
    {
     "name": "stdout",
     "output_type": "stream",
     "text": [
      "Run time is 0.0522582002231502\n",
      "computing SGDClassifier - Balanced \n",
      "Run time is 11.983705579143134\n",
      "computing GradientBoosting - Balanced \n",
      "Run time is 0.07172745181014761\n",
      "computing GaussianNB - Balanced \n",
      "Run time is 17.65800105557537\n",
      "computing RandomForestClassifier - Balanced \n"
     ]
    },
    {
     "data": {
      "image/png": "[encoded data removed]",
      "text/plain": [
       "<matplotlib.figure.Figure at 0x206055ddac8>"
      ]
     },
     "metadata": {},
     "output_type": "display_data"
    }
   ],
   "source": [
    "date_txt = '0219_option_1'\n",
    "models_report, conf_matrix, clfs = run_models(X_train_smote, y_train_smote, X_test_scaled, y_test, date_txt, 'Balanced')"
   ]
  },
  {
   "cell_type": "markdown",
   "metadata": {},
   "source": [
    "It appears that Gradient Boosting performs the best and high the highest AUC. Let's take a closer look at  Gradient Boosting results."
   ]
  },
  {
   "cell_type": "code",
   "execution_count": 107,
   "metadata": {},
   "outputs": [
    {
     "data": {
      "text/plain": [
       "(0.0, 1.0)"
      ]
     },
     "execution_count": 107,
     "metadata": {},
     "output_type": "execute_result"
    },
    {
     "data": {
      "image/png": "[encoded data removed]",
      "text/plain": [
       "<matplotlib.figure.Figure at 0x20606222e48>"
      ]
     },
     "metadata": {},
     "output_type": "display_data"
    }
   ],
   "source": [
    "# y_score = pd.read_csv(\"GradientBoosting_y_score\" + date_txt + \".csv\", header = None)\n",
    "y_score = clfs['GradientBoosting'].predict_proba(X_test_scaled)[:,1]\n",
    "\n",
    "# Source\n",
    "from sklearn.metrics import precision_recall_curve\n",
    "precision, recall, _ = precision_recall_curve(y_test, y_score)\n",
    "\n",
    "plt.step(recall, precision, color='b', alpha=0.2,\n",
    "         where='post')\n",
    "plt.fill_between(recall, precision, step='post', alpha=0.2,\n",
    "                 color='b')\n",
    "\n",
    "plt.xlabel('Recall')\n",
    "plt.ylabel('Precision')\n",
    "plt.ylim([0.0, 1.05])\n",
    "plt.xlim([0.0, 1.0])\n",
    "\n"
   ]
  },
  {
   "cell_type": "code",
   "execution_count": 108,
   "metadata": {},
   "outputs": [
    {
     "data": {
      "text/html": [
       "<div>\n",
       "<style>\n",
       "    .dataframe thead tr:only-child th {\n",
       "        text-align: right;\n",
       "    }\n",
       "\n",
       "    .dataframe thead th {\n",
       "        text-align: left;\n",
       "    }\n",
       "\n",
       "    .dataframe tbody tr th {\n",
       "        vertical-align: top;\n",
       "    }\n",
       "</style>\n",
       "<table border=\"1\" class=\"dataframe\">\n",
       "  <thead>\n",
       "    <tr style=\"text-align: right;\">\n",
       "      <th></th>\n",
       "      <th>model</th>\n",
       "      <th>matthews_corrcoef</th>\n",
       "      <th>roc_auc_score</th>\n",
       "      <th>precision_score</th>\n",
       "      <th>recall_score</th>\n",
       "      <th>f1_score</th>\n",
       "      <th>model_type</th>\n",
       "    </tr>\n",
       "  </thead>\n",
       "  <tbody>\n",
       "    <tr>\n",
       "      <th>0</th>\n",
       "      <td>SGDClassifier</td>\n",
       "      <td>0.10</td>\n",
       "      <td>0.57</td>\n",
       "      <td>0.28</td>\n",
       "      <td>0.55</td>\n",
       "      <td>0.37</td>\n",
       "      <td>Balanced</td>\n",
       "    </tr>\n",
       "    <tr>\n",
       "      <th>1</th>\n",
       "      <td>GradientBoosting</td>\n",
       "      <td>0.13</td>\n",
       "      <td>0.66</td>\n",
       "      <td>0.41</td>\n",
       "      <td>0.16</td>\n",
       "      <td>0.23</td>\n",
       "      <td>Balanced</td>\n",
       "    </tr>\n",
       "    <tr>\n",
       "      <th>2</th>\n",
       "      <td>GaussianNB</td>\n",
       "      <td>0.15</td>\n",
       "      <td>0.61</td>\n",
       "      <td>0.31</td>\n",
       "      <td>0.55</td>\n",
       "      <td>0.40</td>\n",
       "      <td>Balanced</td>\n",
       "    </tr>\n",
       "    <tr>\n",
       "      <th>3</th>\n",
       "      <td>RandomForestClassifier</td>\n",
       "      <td>0.18</td>\n",
       "      <td>0.65</td>\n",
       "      <td>0.33</td>\n",
       "      <td>0.59</td>\n",
       "      <td>0.42</td>\n",
       "      <td>Balanced</td>\n",
       "    </tr>\n",
       "  </tbody>\n",
       "</table>\n",
       "</div>"
      ],
      "text/plain": [
       "                    model  matthews_corrcoef  roc_auc_score  precision_score  \\\n",
       "0           SGDClassifier               0.10           0.57             0.28   \n",
       "1        GradientBoosting               0.13           0.66             0.41   \n",
       "2              GaussianNB               0.15           0.61             0.31   \n",
       "3  RandomForestClassifier               0.18           0.65             0.33   \n",
       "\n",
       "   recall_score  f1_score model_type  \n",
       "0          0.55      0.37   Balanced  \n",
       "1          0.16      0.23   Balanced  \n",
       "2          0.55      0.40   Balanced  \n",
       "3          0.59      0.42   Balanced  "
      ]
     },
     "execution_count": 108,
     "metadata": {},
     "output_type": "execute_result"
    }
   ],
   "source": [
    "models_report"
   ]
  },
  {
   "cell_type": "markdown",
   "metadata": {},
   "source": [
    "I picked the thresholds so that we could have True Positive Rate (Recall) 95%, 97%, and 99%, ie: we are able to predict the corresponding number of loans that are classified as Bad. Our prediction has low precision score, say 6% (with recall = 97%). This means that whenever we predict a loan is Bad, only 6% of the time the loan turns out to be actually bad.\n",
    "\n",
    "Depending on the business needs, we can tolerate the low precision or not."
   ]
  },
  {
   "cell_type": "markdown",
   "metadata": {
    "collapsed": true
   },
   "source": [
    "### Revising the model\n",
    "\n",
    "We have constructed a model that can successfully predict whether the loan will be bad loan or not. It would be interesting to see which feature has the most predictive values. Examining feature importances as calibrated by Gradient Boosting and Random Forest, I found a number of variables that have high predictive values:\n",
    "- Early_cr_line_month (earliest credit line in months)\n",
    "- Fico change: fico change calculates near the end\n",
    "- Interest Rate: make sense, because interest rate is decided by grade\n",
    "- Total Received late fee: the more late fees, the higher the loans and the longer they have delayed paying. On the other hand, this fee is actually received. So people who have paid late fees are more likely to default.\n",
    "\n",
    "- Loan Seasoning: relatively high for tree models, but quite small for Logistic Regression L1\n",
    "\n",
    "Can we further use this model to infer on the impact of payment?"
   ]
  },
  {
   "cell_type": "code",
   "execution_count": 110,
   "metadata": {},
   "outputs": [],
   "source": [
    "ModelParam = pd.DataFrame({'feature': X.columns, 'GBM_importance': clfs['GradientBoosting'].feature_importances_,\n",
    "                          'RFC_importance': clfs['RandomForestClassifier'].feature_importances_,\n",
    "                          })\n",
    "ModelParam.to_csv(date_txt +\"FeatureImportance.csv\")\n"
   ]
  },
  {
   "cell_type": "code",
   "execution_count": 69,
   "metadata": {},
   "outputs": [],
   "source": [
    "# Reset the value\n",
    "accepted = accepted_original\n",
    "\n"
   ]
  }
 ],
 "metadata": {
  "kernelspec": {
   "display_name": "Python 3",
   "language": "python",
   "name": "python3"
  },
  "language_info": {
   "codemirror_mode": {
    "name": "ipython",
    "version": 3
   },
   "file_extension": ".py",
   "mimetype": "text/x-python",
   "name": "python",
   "nbconvert_exporter": "python",
   "pygments_lexer": "ipython3",
   "version": "3.6.3"
  }
 },
 "nbformat": 4,
 "nbformat_minor": 2
}
