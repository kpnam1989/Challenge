{
 "cells": [
  {
   "cell_type": "markdown",
   "metadata": {},
   "source": [
    "# Objective\n",
    "In this workbook, I use Python and pandas to explore 1.6MM observations from The Lending Club data, which Nathan George has kindly provided on Kaggle. This is an interesting dataset not only because of its sheer size, but because it includes much information about the borrowers, such as borrowers' current balance, FICO score, income, etc. This dataset is very similar to the Prosper dataset, but it is of a much larger size.\n",
    "\n",
    "This notebook's main purpose is exploration. I do not seek to optimize for the performance metrics, but only want to explore the certain techniques, such as feature selection, sampling methods, etc.\n",
    "\n",
    "The layout of this Notebook is as follows:\n",
    "-  Simple data cleaning\n",
    "-  Data Exploration\n",
    "> Change of rates through time <br>\n",
    "> Distribution of Income across grade <br>\n",
    "> Income distribution by professions <br>\n",
    "> FICO range and grade <br>\n",
    "> Charge-off rate vs Verification status\n",
    "-  Simple feature selection using GBM and Random Forest\n",
    "-  Model run using a combination of:\n",
    "> GBM, Random Forest, Logistic Regression, Mas-o-menos <br>\n",
    "> StandardScaler, Scaler from Airbnb <br>\n",
    "> SMOTE, RandomUnderSampling <br>\n"
   ]
  },
  {
   "cell_type": "code",
   "execution_count": 2,
   "metadata": {
    "collapsed": false
   },
   "outputs": [
    {
     "name": "stderr",
     "output_type": "stream",
     "text": [
      "D:\\Anaconda\\lib\\site-packages\\IPython\\core\\interactiveshell.py:2698: DtypeWarning: Columns (0,18,48,58,117,128,129,130,133,134,135,138,144,145,146) have mixed types. Specify dtype option on import or set low_memory=False.\n",
      "  interactivity=interactivity, compiler=compiler, result=result)\n"
     ]
    }
   ],
   "source": [
    "%matplotlib inline\n",
    "import os \n",
    "import pandas as pd\n",
    "from matplotlib import pyplot as plt\n",
    "import numpy as np\n",
    "import datetime\n",
    "import seaborn as sns\n",
    "import time\n",
    "\n",
    "ROOT_PATH = '../'\n",
    "accepted = pd.read_csv(ROOT_PATH + './input/accepted_2007_to_2017.csv')"
   ]
  },
  {
   "cell_type": "markdown",
   "metadata": {
    "collapsed": true
   },
   "source": [
    "Let's check the size of the data"
   ]
  },
  {
   "cell_type": "code",
   "execution_count": 4,
   "metadata": {
    "collapsed": false
   },
   "outputs": [
    {
     "data": {
      "text/plain": [
       "(1646801, 150)"
      ]
     },
     "execution_count": 4,
     "metadata": {},
     "output_type": "execute_result"
    }
   ],
   "source": [
    "accepted.shape"
   ]
  },
  {
   "cell_type": "markdown",
   "metadata": {
    "collapsed": true
   },
   "source": [
    "This dataset includes 1.6MM observation with 150 features. Let's check for missing values. I was itching to explore some questions I already have for the data, so I decided to ignore columns where there are a large number of missing values instead of imputing them."
   ]
  },
  {
   "cell_type": "code",
   "execution_count": 3,
   "metadata": {
    "collapsed": false
   },
   "outputs": [
    {
     "data": {
      "text/plain": [
       "member_id                                     1646801\n",
       "orig_projected_additional_accrued_interest    1641979\n",
       "payment_plan_start_date                       1641023\n",
       "hardship_start_date                           1641023\n",
       "hardship_type                                 1641023\n",
       "hardship_reason                               1641023\n",
       "hardship_status                               1641023\n",
       "deferral_term                                 1641023\n",
       "hardship_last_payment_amount                  1641023\n",
       "hardship_payoff_balance_amount                1641023\n",
       "hardship_loan_status                          1641023\n",
       "hardship_dpd                                  1641023\n",
       "hardship_length                               1641023\n",
       "hardship_amount                               1641023\n",
       "hardship_end_date                             1641023\n",
       "sec_app_mths_since_last_major_derog           1639260\n",
       "settlement_term                               1633511\n",
       "settlement_percentage                         1633511\n",
       "debt_settlement_flag_date                     1633511\n",
       "settlement_status                             1633511\n",
       "settlement_date                               1633511\n",
       "settlement_amount                             1633511\n",
       "sec_app_revol_util                            1625264\n",
       "sec_app_mort_acc                              1624976\n",
       "revol_bal_joint                               1624976\n",
       "sec_app_fico_range_low                        1624976\n",
       "sec_app_fico_range_high                       1624976\n",
       "sec_app_earliest_cr_line                      1624976\n",
       "sec_app_inq_last_6mths                        1624976\n",
       "sec_app_open_act_il                           1624976\n",
       "                                               ...   \n",
       "sub_grade                                          23\n",
       "grade                                              23\n",
       "installment                                        23\n",
       "int_rate                                           23\n",
       "term                                               23\n",
       "funded_amnt_inv                                    23\n",
       "funded_amnt                                        23\n",
       "loan_amnt                                          23\n",
       "debt_settlement_flag                               23\n",
       "verification_status                                23\n",
       "fico_range_low                                     23\n",
       "addr_state                                         23\n",
       "total_rec_int                                      23\n",
       "last_fico_range_low                                23\n",
       "last_fico_range_high                               23\n",
       "application_type                                   23\n",
       "last_pymnt_amnt                                    23\n",
       "collection_recovery_fee                            23\n",
       "recoveries                                         23\n",
       "total_rec_late_fee                                 23\n",
       "total_rec_prncp                                    23\n",
       "fico_range_high                                    23\n",
       "total_pymnt_inv                                    23\n",
       "total_pymnt                                        23\n",
       "out_prncp_inv                                      23\n",
       "out_prncp                                          23\n",
       "initial_list_status                                23\n",
       "revol_bal                                          23\n",
       "hardship_flag                                      23\n",
       "id                                                  0\n",
       "Length: 150, dtype: int64"
      ]
     },
     "execution_count": 3,
     "metadata": {},
     "output_type": "execute_result"
    }
   ],
   "source": [
    "missing_data = accepted.isnull().sum().sort_values(ascending= False)\n",
    "drop_columns = list(missing_data[missing_data > accepted.shape[0] *0.1].index) # drop columns where at least 10% of data is missing\n",
    "accepted = accepted.drop(drop_columns, axis = 1)\n",
    "\n",
    "missing_data"
   ]
  },
  {
   "cell_type": "markdown",
   "metadata": {},
   "source": [
    "Since The Lending Club was launched in 2012, there may have been significant changes in its loan portfolios since then. The code transforms the issue date of the loans so that we have use them in further analysis. "
   ]
  },
  {
   "cell_type": "code",
   "execution_count": 4,
   "metadata": {
    "collapsed": false
   },
   "outputs": [
    {
     "data": {
      "image/png": "[encoded data removed]",
      "text/plain": [
       "<matplotlib.figure.Figure at 0x17fa6cbd1d0>"
      ]
     },
     "metadata": {},
     "output_type": "display_data"
    }
   ],
   "source": [
    "accepted.term = accepted.term.apply(str)\n",
    "accepted['term'] = accepted['term'].apply(lambda x: x.strip().split(\" \")[0])\n",
    "\n",
    "accepted.issue_d = pd.to_datetime(accepted.issue_d)\n",
    "accepted['issue_yr'] = accepted.issue_d.dt.year\n",
    "accepted['issue_yr'].plot.hist()"
   ]
  },
  {
   "cell_type": "markdown",
   "metadata": {},
   "source": [
    "# Data transformation\n",
    "I decide to drop several columns because they are a linear combination of others, or they contain too little information.\n",
    "As for Zip Code, we only have the first 3 number so this feature is not helpful."
   ]
  },
  {
   "cell_type": "code",
   "execution_count": 10,
   "metadata": {
    "collapsed": true
   },
   "outputs": [],
   "source": [
    "accepted = accepted.drop(['title', 'funded_amnt'], axis = 1)\n",
    "accepted = accepted.drop(['out_prncp_inv','total_rec_prncp','total_pymnt_inv'], axis = 1)\n",
    "accepted = accepted.drop(['fico_range_low', 'last_fico_range_low',\n",
    "                         'avg_cur_bal',\n",
    "                         'addr_state', 'initial_list_status', 'pymnt_plan',\n",
    "                         'application_type', 'hardship_flag', 'disbursement_method',\n",
    "                          'debt_settlement_flag','sub_grade',\n",
    "                         'zip_code', 'id','policy_code','tax_liens', 'tax_liens'], axis = 1)\n",
    "\n",
    "accepted.home_ownership = accepted.home_ownership.replace(['ANY', 'NONE'], 'RENT')"
   ]
  },
  {
   "cell_type": "markdown",
   "metadata": {},
   "source": [
    "I transform a few variables into the date type for easier analysis later"
   ]
  },
  {
   "cell_type": "code",
   "execution_count": null,
   "metadata": {
    "collapsed": true
   },
   "outputs": [],
   "source": [
    "accepted['issue_yr'] = accepted.issue_d.dt.year\n",
    "accepted['earliest_cr_line'] = pd.to_datetime(accepted.earliest_cr_line)\n",
    "accepted['early_cr_yr'] = accepted.earliest_cr_line.dt.year\n",
    "\n",
    "accepted.loc[accepted.emp_length == '10+ years', 'emp_length'] = '10 years'\n",
    "accepted.loc[accepted.emp_length == '< 1 year', 'emp_length'] = '0 year'\n",
    "accepted.emp_length = accepted.emp_length.apply(lambda x: int(x.split(' ')[0]))\n",
    "\n",
    "accepted.emp_title = accepted.emp_title.apply(lambda x: x.strip().lower())\n",
    "accepted.emp_title = accepted.emp_title.replace(['lpn','registered nurse', 'rn'], 'nurse')"
   ]
  },
  {
   "cell_type": "markdown",
   "metadata": {},
   "source": [
    "# Exploration Questions\n",
    "## Change of rates through time\n",
    "Each loan receives a grade that ranges from G through A. Starting November 2017, grade F and G are no longer used. These codes will plot the average interest rate according to grate through time."
   ]
  },
  {
   "cell_type": "code",
   "execution_count": 5,
   "metadata": {
    "collapsed": true
   },
   "outputs": [],
   "source": [
    "rate = pd.pivot_table(accepted[accepted['term'] == '36'],index=[\"grade\",\"issue_yr\"],values=[\"int_rate\"], aggfunc=np.mean)\n",
    "rate.shape # 77, 1\n",
    "rate = rate.reset_index()"
   ]
  },
  {
   "cell_type": "code",
   "execution_count": 6,
   "metadata": {
    "collapsed": false
   },
   "outputs": [
    {
     "data": {
      "text/plain": [
       "Text(0.5,0.98,'Interest Rate over time and grade')"
      ]
     },
     "execution_count": 6,
     "metadata": {},
     "output_type": "execute_result"
    },
    {
     "data": {
      "image/png": "[encoded data removed]",
      "text/plain": [
       "<matplotlib.figure.Figure at 0x22196a44f60>"
      ]
     },
     "metadata": {},
     "output_type": "display_data"
    }
   ],
   "source": [
    "g = sns.FacetGrid(rate, col = 'grade', col_wrap = 4)\n",
    "g = g.map(sns.pointplot, \"issue_yr\", \"int_rate\")\n",
    "\n",
    "labels = np.arange(2007, 2018, 1)\n",
    "labels = [str(i) for i in labels]\n",
    "g = g.set_xticklabels(labels, rotation=70)\n",
    "g = g.set_ylabels(\"3yr interest rate\")\n",
    "\n",
    "plt.subplots_adjust(top=0.9)\n",
    "g.fig.suptitle('Interest Rate over time and grade')"
   ]
  },
  {
   "cell_type": "markdown",
   "metadata": {},
   "source": [
    "We can see that interest rate for grade D, E, F, G increase quickly from 2014. \n",
    "\n",
    "We have very few data points from 2007 to 2014. Let's take a closer look to see if this increase in average rate is not due to the small number of observations.\n"
   ]
  },
  {
   "cell_type": "code",
   "execution_count": 7,
   "metadata": {
    "collapsed": false
   },
   "outputs": [
    {
     "data": {
      "text/html": [
       "<div>\n",
       "<style>\n",
       "    .dataframe thead tr:only-child th {\n",
       "        text-align: right;\n",
       "    }\n",
       "\n",
       "    .dataframe thead th {\n",
       "        text-align: left;\n",
       "    }\n",
       "\n",
       "    .dataframe tbody tr th {\n",
       "        vertical-align: top;\n",
       "    }\n",
       "</style>\n",
       "<table border=\"1\" class=\"dataframe\">\n",
       "  <thead>\n",
       "    <tr>\n",
       "      <th></th>\n",
       "      <th colspan=\"7\" halign=\"left\">int_rate</th>\n",
       "    </tr>\n",
       "    <tr>\n",
       "      <th>grade</th>\n",
       "      <th>A</th>\n",
       "      <th>B</th>\n",
       "      <th>C</th>\n",
       "      <th>D</th>\n",
       "      <th>E</th>\n",
       "      <th>F</th>\n",
       "      <th>G</th>\n",
       "    </tr>\n",
       "    <tr>\n",
       "      <th>issue_yr</th>\n",
       "      <th></th>\n",
       "      <th></th>\n",
       "      <th></th>\n",
       "      <th></th>\n",
       "      <th></th>\n",
       "      <th></th>\n",
       "      <th></th>\n",
       "    </tr>\n",
       "  </thead>\n",
       "  <tbody>\n",
       "    <tr>\n",
       "      <th>2007.0</th>\n",
       "      <td>78</td>\n",
       "      <td>98</td>\n",
       "      <td>141</td>\n",
       "      <td>99</td>\n",
       "      <td>100</td>\n",
       "      <td>52</td>\n",
       "      <td>35</td>\n",
       "    </tr>\n",
       "    <tr>\n",
       "      <th>2008.0</th>\n",
       "      <td>318</td>\n",
       "      <td>594</td>\n",
       "      <td>580</td>\n",
       "      <td>419</td>\n",
       "      <td>285</td>\n",
       "      <td>111</td>\n",
       "      <td>86</td>\n",
       "    </tr>\n",
       "    <tr>\n",
       "      <th>2009.0</th>\n",
       "      <td>1203</td>\n",
       "      <td>1445</td>\n",
       "      <td>1348</td>\n",
       "      <td>817</td>\n",
       "      <td>308</td>\n",
       "      <td>105</td>\n",
       "      <td>55</td>\n",
       "    </tr>\n",
       "    <tr>\n",
       "      <th>2010.0</th>\n",
       "      <td>2567</td>\n",
       "      <td>2805</td>\n",
       "      <td>2070</td>\n",
       "      <td>1253</td>\n",
       "      <td>336</td>\n",
       "      <td>91</td>\n",
       "      <td>34</td>\n",
       "    </tr>\n",
       "    <tr>\n",
       "      <th>2011.0</th>\n",
       "      <td>5579</td>\n",
       "      <td>4722</td>\n",
       "      <td>2203</td>\n",
       "      <td>1261</td>\n",
       "      <td>272</td>\n",
       "      <td>54</td>\n",
       "      <td>10</td>\n",
       "    </tr>\n",
       "    <tr>\n",
       "      <th>2012.0</th>\n",
       "      <td>10753</td>\n",
       "      <td>16805</td>\n",
       "      <td>9902</td>\n",
       "      <td>5088</td>\n",
       "      <td>795</td>\n",
       "      <td>103</td>\n",
       "      <td>24</td>\n",
       "    </tr>\n",
       "    <tr>\n",
       "      <th>2013.0</th>\n",
       "      <td>17057</td>\n",
       "      <td>40313</td>\n",
       "      <td>24693</td>\n",
       "      <td>14505</td>\n",
       "      <td>3231</td>\n",
       "      <td>608</td>\n",
       "      <td>15</td>\n",
       "    </tr>\n",
       "    <tr>\n",
       "      <th>2014.0</th>\n",
       "      <td>35333</td>\n",
       "      <td>53460</td>\n",
       "      <td>44042</td>\n",
       "      <td>20510</td>\n",
       "      <td>7066</td>\n",
       "      <td>1980</td>\n",
       "      <td>179</td>\n",
       "    </tr>\n",
       "    <tr>\n",
       "      <th>2015.0</th>\n",
       "      <td>70132</td>\n",
       "      <td>91783</td>\n",
       "      <td>77457</td>\n",
       "      <td>32740</td>\n",
       "      <td>9450</td>\n",
       "      <td>1363</td>\n",
       "      <td>248</td>\n",
       "    </tr>\n",
       "    <tr>\n",
       "      <th>2016.0</th>\n",
       "      <td>66862</td>\n",
       "      <td>114783</td>\n",
       "      <td>92317</td>\n",
       "      <td>36707</td>\n",
       "      <td>9932</td>\n",
       "      <td>2364</td>\n",
       "      <td>530</td>\n",
       "    </tr>\n",
       "    <tr>\n",
       "      <th>2017.0</th>\n",
       "      <td>52191</td>\n",
       "      <td>81609</td>\n",
       "      <td>69093</td>\n",
       "      <td>24905</td>\n",
       "      <td>7884</td>\n",
       "      <td>1386</td>\n",
       "      <td>674</td>\n",
       "    </tr>\n",
       "  </tbody>\n",
       "</table>\n",
       "</div>"
      ],
      "text/plain": [
       "         int_rate                                       \n",
       "grade           A       B      C      D     E     F    G\n",
       "issue_yr                                                \n",
       "2007.0         78      98    141     99   100    52   35\n",
       "2008.0        318     594    580    419   285   111   86\n",
       "2009.0       1203    1445   1348    817   308   105   55\n",
       "2010.0       2567    2805   2070   1253   336    91   34\n",
       "2011.0       5579    4722   2203   1261   272    54   10\n",
       "2012.0      10753   16805   9902   5088   795   103   24\n",
       "2013.0      17057   40313  24693  14505  3231   608   15\n",
       "2014.0      35333   53460  44042  20510  7066  1980  179\n",
       "2015.0      70132   91783  77457  32740  9450  1363  248\n",
       "2016.0      66862  114783  92317  36707  9932  2364  530\n",
       "2017.0      52191   81609  69093  24905  7884  1386  674"
      ]
     },
     "execution_count": 7,
     "metadata": {},
     "output_type": "execute_result"
    }
   ],
   "source": [
    "# Number of observations for each grade\n",
    "# to verify the variance of rates\n",
    "rate_count = pd.pivot_table(accepted[accepted['term'] == '36'],index=[\"grade\",\"issue_yr\"],values=[\"int_rate\"], aggfunc='count')\n",
    "rate_count = rate_count.unstack('grade')\n",
    "rate_count"
   ]
  },
  {
   "cell_type": "markdown",
   "metadata": {},
   "source": [
    "The number of loans has increased almost exponentially since inception (which is actually 2007).\n",
    "\n",
    "## Borrowing purpose"
   ]
  },
  {
   "cell_type": "code",
   "execution_count": null,
   "metadata": {
    "collapsed": true
   },
   "outputs": [],
   "source": [
    "accepted.purpose.value_counts().sort_values(ascending=False)"
   ]
  },
  {
   "cell_type": "markdown",
   "metadata": {},
   "source": [
    "## Distribution of Income across Grade\n",
    "Let's take a leap of faith and only examine the loans where income has been verified. The variable *verification status* can take one of 3 values: Verified, Source Verified or Not Verified. Here I only filtered for loans whose *verification status* is different from 'Not Verified'.\n",
    "\n",
    "I put a cap on the high income (95% percentile), because the high income level can be in the amount of $500,000, which is not that regular and will distort the chart."
   ]
  },
  {
   "cell_type": "code",
   "execution_count": 9,
   "metadata": {
    "collapsed": true
   },
   "outputs": [],
   "source": [
    "incomeVerified = accepted[accepted['verification_status'] != 'Not Verified'].dropna()\n",
    "incomeVerified = incomeVerified[['grade','annual_inc']]\n",
    "quantile_low = incomeVerified['annual_inc'].min()\n",
    "quantile_high = incomeVerified['annual_inc'].quantile(0.95)\n",
    "filtered = incomeVerified[(incomeVerified['annual_inc'] > quantile_low) & (incomeVerified['annual_inc'] <= quantile_high)]"
   ]
  },
  {
   "cell_type": "code",
   "execution_count": 10,
   "metadata": {
    "collapsed": false
   },
   "outputs": [
    {
     "data": {
      "text/plain": [
       "(0.0, 2e-05)"
      ]
     },
     "execution_count": 10,
     "metadata": {},
     "output_type": "execute_result"
    },
    {
     "data": {
      "image/png": "[encoded data removed]",
      "text/plain": [
       "<matplotlib.figure.Figure at 0x2216f019240>"
      ]
     },
     "metadata": {},
     "output_type": "display_data"
    }
   ],
   "source": [
    "grade_list = filtered['grade'].unique()\n",
    "plt.figure(figsize=(10,10))\n",
    "for i in range(len(grade_list)):\n",
    "    data = filtered[filtered['grade'] == grade_list[i]]['annual_inc'].values\n",
    "    sns.distplot(data, bins = 30)\n",
    "\n",
    "plt.ylim(ymax = 0.00002)"
   ]
  },
  {
   "cell_type": "markdown",
   "metadata": {},
   "source": [
    "There seems to be a slight difference in income level across grade, with one grade has a high density of income above $100,000. Perhaps it may not be beneficial to dive too deep into it, except having a brief look at the median income accross each grade. We do see that while other grades seem to have similar median incomes, grade A does stand out."
   ]
  },
  {
   "cell_type": "code",
   "execution_count": 11,
   "metadata": {
    "collapsed": false
   },
   "outputs": [
    {
     "data": {
      "text/html": [
       "<div>\n",
       "<style>\n",
       "    .dataframe thead tr:only-child th {\n",
       "        text-align: right;\n",
       "    }\n",
       "\n",
       "    .dataframe thead th {\n",
       "        text-align: left;\n",
       "    }\n",
       "\n",
       "    .dataframe tbody tr th {\n",
       "        vertical-align: top;\n",
       "    }\n",
       "</style>\n",
       "<table border=\"1\" class=\"dataframe\">\n",
       "  <thead>\n",
       "    <tr style=\"text-align: right;\">\n",
       "      <th></th>\n",
       "      <th>annual_inc</th>\n",
       "    </tr>\n",
       "    <tr>\n",
       "      <th>grade</th>\n",
       "      <th></th>\n",
       "    </tr>\n",
       "  </thead>\n",
       "  <tbody>\n",
       "    <tr>\n",
       "      <th>A</th>\n",
       "      <td>80000.0</td>\n",
       "    </tr>\n",
       "    <tr>\n",
       "      <th>B</th>\n",
       "      <td>67000.0</td>\n",
       "    </tr>\n",
       "    <tr>\n",
       "      <th>C</th>\n",
       "      <td>65000.0</td>\n",
       "    </tr>\n",
       "    <tr>\n",
       "      <th>D</th>\n",
       "      <td>62000.0</td>\n",
       "    </tr>\n",
       "    <tr>\n",
       "      <th>E</th>\n",
       "      <td>61000.0</td>\n",
       "    </tr>\n",
       "    <tr>\n",
       "      <th>F</th>\n",
       "      <td>65000.0</td>\n",
       "    </tr>\n",
       "    <tr>\n",
       "      <th>G</th>\n",
       "      <td>67000.0</td>\n",
       "    </tr>\n",
       "  </tbody>\n",
       "</table>\n",
       "</div>"
      ],
      "text/plain": [
       "       annual_inc\n",
       "grade            \n",
       "A         80000.0\n",
       "B         67000.0\n",
       "C         65000.0\n",
       "D         62000.0\n",
       "E         61000.0\n",
       "F         65000.0\n",
       "G         67000.0"
      ]
     },
     "execution_count": 11,
     "metadata": {},
     "output_type": "execute_result"
    }
   ],
   "source": [
    "# Median of incomes in each grade\n",
    "income_median = pd.pivot_table(filtered, values = 'annual_inc', index = 'grade', aggfunc = np.median)\n",
    "income_median"
   ]
  },
  {
   "cell_type": "markdown",
   "metadata": {},
   "source": [
    "## Income Distribution by Professions\n",
    "\n",
    "Because of the large number of observations that we have, we can construct a reliable distribution of annual incomes.But first, further transformation:\n",
    "- Filtering for loans where the reported income is less than 1 million USD\n",
    "- Filtering for loans where Debt-to-Income ratio is less than 100 percent. If it is greater than or equal to 100, I wonder why we would have made such loans in the first place. I could have been more careful by capping dti value at 100. \n",
    "- Changing employment years into numeric\n",
    "- Filling unknown values for home-ownership as Rent\n",
    "- Standardizing the values of employment title (emp_title)"
   ]
  },
  {
   "cell_type": "code",
   "execution_count": 22,
   "metadata": {
    "collapsed": false
   },
   "outputs": [
    {
     "ename": "AttributeError",
     "evalue": "'float' object has no attribute 'strip'",
     "output_type": "error",
     "traceback": [
      "\u001b[1;31m---------------------------------------------------------------------------\u001b[0m",
      "\u001b[1;31mAttributeError\u001b[0m                            Traceback (most recent call last)",
      "\u001b[1;32m<ipython-input-22-553406056a48>\u001b[0m in \u001b[0;36m<module>\u001b[1;34m()\u001b[0m\n\u001b[0;32m      7\u001b[0m \u001b[1;31m#accepted.emp_length = accepted.emp_length.apply(lambda x: int(x.split(' ')[0]))\u001b[0m\u001b[1;33m\u001b[0m\u001b[1;33m\u001b[0m\u001b[0m\n\u001b[0;32m      8\u001b[0m \u001b[1;33m\u001b[0m\u001b[0m\n\u001b[1;32m----> 9\u001b[1;33m \u001b[0maccepted\u001b[0m\u001b[1;33m.\u001b[0m\u001b[0memp_title\u001b[0m \u001b[1;33m=\u001b[0m \u001b[0maccepted\u001b[0m\u001b[1;33m.\u001b[0m\u001b[0memp_title\u001b[0m\u001b[1;33m.\u001b[0m\u001b[0mapply\u001b[0m\u001b[1;33m(\u001b[0m\u001b[1;32mlambda\u001b[0m \u001b[0mx\u001b[0m\u001b[1;33m:\u001b[0m \u001b[0mx\u001b[0m\u001b[1;33m.\u001b[0m\u001b[0mstrip\u001b[0m\u001b[1;33m(\u001b[0m\u001b[1;33m)\u001b[0m\u001b[1;33m.\u001b[0m\u001b[0mlower\u001b[0m\u001b[1;33m(\u001b[0m\u001b[1;33m)\u001b[0m\u001b[1;33m)\u001b[0m\u001b[1;33m\u001b[0m\u001b[0m\n\u001b[0m\u001b[0;32m     10\u001b[0m \u001b[0maccepted\u001b[0m\u001b[1;33m.\u001b[0m\u001b[0memp_title\u001b[0m \u001b[1;33m=\u001b[0m \u001b[0maccepted\u001b[0m\u001b[1;33m.\u001b[0m\u001b[0memp_title\u001b[0m\u001b[1;33m.\u001b[0m\u001b[0mreplace\u001b[0m\u001b[1;33m(\u001b[0m\u001b[1;33m[\u001b[0m\u001b[1;34m'lpn'\u001b[0m\u001b[1;33m,\u001b[0m\u001b[1;34m'registered nurse'\u001b[0m\u001b[1;33m,\u001b[0m \u001b[1;34m'rn'\u001b[0m\u001b[1;33m,\u001b[0m\u001b[1;34m'LPN'\u001b[0m\u001b[1;33m,\u001b[0m\u001b[1;33m]\u001b[0m\u001b[1;33m,\u001b[0m \u001b[1;34m'nurse'\u001b[0m\u001b[1;33m)\u001b[0m\u001b[1;33m\u001b[0m\u001b[0m\n\u001b[0;32m     11\u001b[0m \u001b[1;33m\u001b[0m\u001b[0m\n",
      "\u001b[1;32mD:\\Anaconda\\lib\\site-packages\\pandas\\core\\series.py\u001b[0m in \u001b[0;36mapply\u001b[1;34m(self, func, convert_dtype, args, **kwds)\u001b[0m\n\u001b[0;32m   2353\u001b[0m             \u001b[1;32melse\u001b[0m\u001b[1;33m:\u001b[0m\u001b[1;33m\u001b[0m\u001b[0m\n\u001b[0;32m   2354\u001b[0m                 \u001b[0mvalues\u001b[0m \u001b[1;33m=\u001b[0m \u001b[0mself\u001b[0m\u001b[1;33m.\u001b[0m\u001b[0masobject\u001b[0m\u001b[1;33m\u001b[0m\u001b[0m\n\u001b[1;32m-> 2355\u001b[1;33m                 \u001b[0mmapped\u001b[0m \u001b[1;33m=\u001b[0m \u001b[0mlib\u001b[0m\u001b[1;33m.\u001b[0m\u001b[0mmap_infer\u001b[0m\u001b[1;33m(\u001b[0m\u001b[0mvalues\u001b[0m\u001b[1;33m,\u001b[0m \u001b[0mf\u001b[0m\u001b[1;33m,\u001b[0m \u001b[0mconvert\u001b[0m\u001b[1;33m=\u001b[0m\u001b[0mconvert_dtype\u001b[0m\u001b[1;33m)\u001b[0m\u001b[1;33m\u001b[0m\u001b[0m\n\u001b[0m\u001b[0;32m   2356\u001b[0m \u001b[1;33m\u001b[0m\u001b[0m\n\u001b[0;32m   2357\u001b[0m         \u001b[1;32mif\u001b[0m \u001b[0mlen\u001b[0m\u001b[1;33m(\u001b[0m\u001b[0mmapped\u001b[0m\u001b[1;33m)\u001b[0m \u001b[1;32mand\u001b[0m \u001b[0misinstance\u001b[0m\u001b[1;33m(\u001b[0m\u001b[0mmapped\u001b[0m\u001b[1;33m[\u001b[0m\u001b[1;36m0\u001b[0m\u001b[1;33m]\u001b[0m\u001b[1;33m,\u001b[0m \u001b[0mSeries\u001b[0m\u001b[1;33m)\u001b[0m\u001b[1;33m:\u001b[0m\u001b[1;33m\u001b[0m\u001b[0m\n",
      "\u001b[1;32mpandas/_libs/src\\inference.pyx\u001b[0m in \u001b[0;36mpandas._libs.lib.map_infer\u001b[1;34m()\u001b[0m\n",
      "\u001b[1;32m<ipython-input-22-553406056a48>\u001b[0m in \u001b[0;36m<lambda>\u001b[1;34m(x)\u001b[0m\n\u001b[0;32m      7\u001b[0m \u001b[1;31m#accepted.emp_length = accepted.emp_length.apply(lambda x: int(x.split(' ')[0]))\u001b[0m\u001b[1;33m\u001b[0m\u001b[1;33m\u001b[0m\u001b[0m\n\u001b[0;32m      8\u001b[0m \u001b[1;33m\u001b[0m\u001b[0m\n\u001b[1;32m----> 9\u001b[1;33m \u001b[0maccepted\u001b[0m\u001b[1;33m.\u001b[0m\u001b[0memp_title\u001b[0m \u001b[1;33m=\u001b[0m \u001b[0maccepted\u001b[0m\u001b[1;33m.\u001b[0m\u001b[0memp_title\u001b[0m\u001b[1;33m.\u001b[0m\u001b[0mapply\u001b[0m\u001b[1;33m(\u001b[0m\u001b[1;32mlambda\u001b[0m \u001b[0mx\u001b[0m\u001b[1;33m:\u001b[0m \u001b[0mx\u001b[0m\u001b[1;33m.\u001b[0m\u001b[0mstrip\u001b[0m\u001b[1;33m(\u001b[0m\u001b[1;33m)\u001b[0m\u001b[1;33m.\u001b[0m\u001b[0mlower\u001b[0m\u001b[1;33m(\u001b[0m\u001b[1;33m)\u001b[0m\u001b[1;33m)\u001b[0m\u001b[1;33m\u001b[0m\u001b[0m\n\u001b[0m\u001b[0;32m     10\u001b[0m \u001b[0maccepted\u001b[0m\u001b[1;33m.\u001b[0m\u001b[0memp_title\u001b[0m \u001b[1;33m=\u001b[0m \u001b[0maccepted\u001b[0m\u001b[1;33m.\u001b[0m\u001b[0memp_title\u001b[0m\u001b[1;33m.\u001b[0m\u001b[0mreplace\u001b[0m\u001b[1;33m(\u001b[0m\u001b[1;33m[\u001b[0m\u001b[1;34m'lpn'\u001b[0m\u001b[1;33m,\u001b[0m\u001b[1;34m'registered nurse'\u001b[0m\u001b[1;33m,\u001b[0m \u001b[1;34m'rn'\u001b[0m\u001b[1;33m,\u001b[0m\u001b[1;34m'LPN'\u001b[0m\u001b[1;33m,\u001b[0m\u001b[1;33m]\u001b[0m\u001b[1;33m,\u001b[0m \u001b[1;34m'nurse'\u001b[0m\u001b[1;33m)\u001b[0m\u001b[1;33m\u001b[0m\u001b[0m\n\u001b[0;32m     11\u001b[0m \u001b[1;33m\u001b[0m\u001b[0m\n",
      "\u001b[1;31mAttributeError\u001b[0m: 'float' object has no attribute 'strip'"
     ]
    }
   ],
   "source": [
    "leq1mil = accepted['annual_inc'] <= 1e6\n",
    "accepted = accepted[leq1mil]\n",
    "accepted = accepted[accepted.dti < 100.0]"
   ]
  },
  {
   "cell_type": "markdown",
   "metadata": {},
   "source": [
    " Because people will most likely lie on their incomes when their income is low, we can filter out for data if:\n",
    "* Income is lower than \\$70,000 but has been verified by Lending Club\n",
    "* Income is higher than \\$70,000 but lower than \\$120,000\n",
    "* Income is higher than \\$120,000 but has been verified by Lending Club\n",
    "\n",
    "The choice of limit of \\$70,000 and \\$120,000 is arbitrary to filter out loans where income levels seem unrealistic. "
   ]
  },
  {
   "cell_type": "code",
   "execution_count": 21,
   "metadata": {
    "collapsed": false,
    "scrolled": true
   },
   "outputs": [
    {
     "data": {
      "text/html": [
       "<div>\n",
       "<style>\n",
       "    .dataframe thead tr:only-child th {\n",
       "        text-align: right;\n",
       "    }\n",
       "\n",
       "    .dataframe thead th {\n",
       "        text-align: left;\n",
       "    }\n",
       "\n",
       "    .dataframe tbody tr th {\n",
       "        vertical-align: top;\n",
       "    }\n",
       "</style>\n",
       "<table border=\"1\" class=\"dataframe\">\n",
       "  <thead>\n",
       "    <tr style=\"text-align: right;\">\n",
       "      <th></th>\n",
       "      <th>mean</th>\n",
       "      <th>median</th>\n",
       "      <th>min</th>\n",
       "      <th>max</th>\n",
       "      <th>count</th>\n",
       "    </tr>\n",
       "    <tr>\n",
       "      <th>emp_title</th>\n",
       "      <th></th>\n",
       "      <th></th>\n",
       "      <th></th>\n",
       "      <th></th>\n",
       "      <th></th>\n",
       "    </tr>\n",
       "  </thead>\n",
       "  <tbody>\n",
       "    <tr>\n",
       "      <th>Teacher</th>\n",
       "      <td>73,885</td>\n",
       "      <td>75,000</td>\n",
       "      <td>9,000</td>\n",
       "      <td>367,500</td>\n",
       "      <td>13479</td>\n",
       "    </tr>\n",
       "    <tr>\n",
       "      <th>Manager</th>\n",
       "      <td>85,749</td>\n",
       "      <td>83,000</td>\n",
       "      <td>12,000</td>\n",
       "      <td>1,000,000</td>\n",
       "      <td>13086</td>\n",
       "    </tr>\n",
       "    <tr>\n",
       "      <th>Registered Nurse</th>\n",
       "      <td>85,549</td>\n",
       "      <td>82,940</td>\n",
       "      <td>10,900</td>\n",
       "      <td>320,000</td>\n",
       "      <td>7458</td>\n",
       "    </tr>\n",
       "    <tr>\n",
       "      <th>RN</th>\n",
       "      <td>85,431</td>\n",
       "      <td>82,000</td>\n",
       "      <td>18,597</td>\n",
       "      <td>285,000</td>\n",
       "      <td>7263</td>\n",
       "    </tr>\n",
       "    <tr>\n",
       "      <th>Owner</th>\n",
       "      <td>94,794</td>\n",
       "      <td>85,000</td>\n",
       "      <td>5,000</td>\n",
       "      <td>1,000,000</td>\n",
       "      <td>6554</td>\n",
       "    </tr>\n",
       "    <tr>\n",
       "      <th>Supervisor</th>\n",
       "      <td>77,233</td>\n",
       "      <td>75,000</td>\n",
       "      <td>14,900</td>\n",
       "      <td>780,000</td>\n",
       "      <td>5627</td>\n",
       "    </tr>\n",
       "    <tr>\n",
       "      <th>Project Manager</th>\n",
       "      <td>92,724</td>\n",
       "      <td>90,000</td>\n",
       "      <td>22,000</td>\n",
       "      <td>460,000</td>\n",
       "      <td>5584</td>\n",
       "    </tr>\n",
       "    <tr>\n",
       "      <th>Sales</th>\n",
       "      <td>88,431</td>\n",
       "      <td>80,000</td>\n",
       "      <td>10,000</td>\n",
       "      <td>650,000</td>\n",
       "      <td>4750</td>\n",
       "    </tr>\n",
       "    <tr>\n",
       "      <th>Driver</th>\n",
       "      <td>73,725</td>\n",
       "      <td>75,000</td>\n",
       "      <td>7,000</td>\n",
       "      <td>1,000,000</td>\n",
       "      <td>4743</td>\n",
       "    </tr>\n",
       "    <tr>\n",
       "      <th>Engineer</th>\n",
       "      <td>94,608</td>\n",
       "      <td>90,000</td>\n",
       "      <td>25,958</td>\n",
       "      <td>350,000</td>\n",
       "      <td>3849</td>\n",
       "    </tr>\n",
       "    <tr>\n",
       "      <th>General Manager</th>\n",
       "      <td>94,861</td>\n",
       "      <td>85,000</td>\n",
       "      <td>20,000</td>\n",
       "      <td>700,000</td>\n",
       "      <td>3820</td>\n",
       "    </tr>\n",
       "    <tr>\n",
       "      <th>Director</th>\n",
       "      <td>123,526</td>\n",
       "      <td>103,000</td>\n",
       "      <td>18,000</td>\n",
       "      <td>1,000,000</td>\n",
       "      <td>3685</td>\n",
       "    </tr>\n",
       "    <tr>\n",
       "      <th>President</th>\n",
       "      <td>122,884</td>\n",
       "      <td>100,000</td>\n",
       "      <td>7,956</td>\n",
       "      <td>800,000</td>\n",
       "      <td>2965</td>\n",
       "    </tr>\n",
       "    <tr>\n",
       "      <th>Office Manager</th>\n",
       "      <td>65,060</td>\n",
       "      <td>67,000</td>\n",
       "      <td>12,725</td>\n",
       "      <td>300,000</td>\n",
       "      <td>2804</td>\n",
       "    </tr>\n",
       "    <tr>\n",
       "      <th>Operations Manager</th>\n",
       "      <td>86,565</td>\n",
       "      <td>84,000</td>\n",
       "      <td>16,000</td>\n",
       "      <td>315,000</td>\n",
       "      <td>2781</td>\n",
       "    </tr>\n",
       "    <tr>\n",
       "      <th>owner</th>\n",
       "      <td>88,673</td>\n",
       "      <td>80,000</td>\n",
       "      <td>8,436</td>\n",
       "      <td>750,000</td>\n",
       "      <td>2667</td>\n",
       "    </tr>\n",
       "    <tr>\n",
       "      <th>manager</th>\n",
       "      <td>79,204</td>\n",
       "      <td>76,750</td>\n",
       "      <td>10,000</td>\n",
       "      <td>600,000</td>\n",
       "      <td>2614</td>\n",
       "    </tr>\n",
       "    <tr>\n",
       "      <th>teacher</th>\n",
       "      <td>75,559</td>\n",
       "      <td>76,590</td>\n",
       "      <td>12,000</td>\n",
       "      <td>165,000</td>\n",
       "      <td>2602</td>\n",
       "    </tr>\n",
       "    <tr>\n",
       "      <th>Vice President</th>\n",
       "      <td>141,894</td>\n",
       "      <td>110,000</td>\n",
       "      <td>15,000</td>\n",
       "      <td>825,000</td>\n",
       "      <td>2436</td>\n",
       "    </tr>\n",
       "    <tr>\n",
       "      <th>Attorney</th>\n",
       "      <td>112,392</td>\n",
       "      <td>99,000</td>\n",
       "      <td>21,000</td>\n",
       "      <td>800,000</td>\n",
       "      <td>2339</td>\n",
       "    </tr>\n",
       "    <tr>\n",
       "      <th>Police Officer</th>\n",
       "      <td>88,281</td>\n",
       "      <td>86,000</td>\n",
       "      <td>28,500</td>\n",
       "      <td>307,000</td>\n",
       "      <td>2262</td>\n",
       "    </tr>\n",
       "    <tr>\n",
       "      <th>Sales Manager</th>\n",
       "      <td>100,696</td>\n",
       "      <td>92,000</td>\n",
       "      <td>21,500</td>\n",
       "      <td>540,000</td>\n",
       "      <td>2235</td>\n",
       "    </tr>\n",
       "    <tr>\n",
       "      <th>Accountant</th>\n",
       "      <td>76,004</td>\n",
       "      <td>75,000</td>\n",
       "      <td>19,000</td>\n",
       "      <td>467,000</td>\n",
       "      <td>2089</td>\n",
       "    </tr>\n",
       "    <tr>\n",
       "      <th>driver</th>\n",
       "      <td>73,237</td>\n",
       "      <td>75,000</td>\n",
       "      <td>14,000</td>\n",
       "      <td>180,000</td>\n",
       "      <td>2050</td>\n",
       "    </tr>\n",
       "    <tr>\n",
       "      <th>Analyst</th>\n",
       "      <td>86,032</td>\n",
       "      <td>82,002</td>\n",
       "      <td>19,200</td>\n",
       "      <td>750,000</td>\n",
       "      <td>1924</td>\n",
       "    </tr>\n",
       "    <tr>\n",
       "      <th>Software Engineer</th>\n",
       "      <td>98,581</td>\n",
       "      <td>95,000</td>\n",
       "      <td>38,400</td>\n",
       "      <td>1,000,000</td>\n",
       "      <td>1916</td>\n",
       "    </tr>\n",
       "    <tr>\n",
       "      <th>Account Manager</th>\n",
       "      <td>83,767</td>\n",
       "      <td>80,000</td>\n",
       "      <td>22,880</td>\n",
       "      <td>400,000</td>\n",
       "      <td>1857</td>\n",
       "    </tr>\n",
       "    <tr>\n",
       "      <th>Executive Assistant</th>\n",
       "      <td>77,964</td>\n",
       "      <td>76,960</td>\n",
       "      <td>15,000</td>\n",
       "      <td>270,000</td>\n",
       "      <td>1811</td>\n",
       "    </tr>\n",
       "    <tr>\n",
       "      <th>Nurse</th>\n",
       "      <td>77,202</td>\n",
       "      <td>75,179</td>\n",
       "      <td>12,000</td>\n",
       "      <td>200,000</td>\n",
       "      <td>1754</td>\n",
       "    </tr>\n",
       "    <tr>\n",
       "      <th>Controller</th>\n",
       "      <td>97,427</td>\n",
       "      <td>92,500</td>\n",
       "      <td>17,436</td>\n",
       "      <td>650,000</td>\n",
       "      <td>1699</td>\n",
       "    </tr>\n",
       "    <tr>\n",
       "      <th>...</th>\n",
       "      <td>...</td>\n",
       "      <td>...</td>\n",
       "      <td>...</td>\n",
       "      <td>...</td>\n",
       "      <td>...</td>\n",
       "    </tr>\n",
       "    <tr>\n",
       "      <th>Realtor</th>\n",
       "      <td>88,565</td>\n",
       "      <td>85,000</td>\n",
       "      <td>20,000</td>\n",
       "      <td>340,000</td>\n",
       "      <td>542</td>\n",
       "    </tr>\n",
       "    <tr>\n",
       "      <th>Management</th>\n",
       "      <td>90,273</td>\n",
       "      <td>85,000</td>\n",
       "      <td>14,083</td>\n",
       "      <td>900,000</td>\n",
       "      <td>542</td>\n",
       "    </tr>\n",
       "    <tr>\n",
       "      <th>Senior Software Engineer</th>\n",
       "      <td>108,924</td>\n",
       "      <td>106,000</td>\n",
       "      <td>56,000</td>\n",
       "      <td>270,000</td>\n",
       "      <td>527</td>\n",
       "    </tr>\n",
       "    <tr>\n",
       "      <th>LPN</th>\n",
       "      <td>53,748</td>\n",
       "      <td>50,000</td>\n",
       "      <td>15,000</td>\n",
       "      <td>120,000</td>\n",
       "      <td>522</td>\n",
       "    </tr>\n",
       "    <tr>\n",
       "      <th>Legal Secretary</th>\n",
       "      <td>74,249</td>\n",
       "      <td>75,000</td>\n",
       "      <td>17,114</td>\n",
       "      <td>140,000</td>\n",
       "      <td>512</td>\n",
       "    </tr>\n",
       "    <tr>\n",
       "      <th>Agent</th>\n",
       "      <td>92,374</td>\n",
       "      <td>90,000</td>\n",
       "      <td>10,320</td>\n",
       "      <td>600,000</td>\n",
       "      <td>512</td>\n",
       "    </tr>\n",
       "    <tr>\n",
       "      <th>Recruiter</th>\n",
       "      <td>80,490</td>\n",
       "      <td>79,000</td>\n",
       "      <td>22,410</td>\n",
       "      <td>235,000</td>\n",
       "      <td>509</td>\n",
       "    </tr>\n",
       "    <tr>\n",
       "      <th>Laborer</th>\n",
       "      <td>64,515</td>\n",
       "      <td>70,000</td>\n",
       "      <td>10,000</td>\n",
       "      <td>136,000</td>\n",
       "      <td>509</td>\n",
       "    </tr>\n",
       "    <tr>\n",
       "      <th>Pastor</th>\n",
       "      <td>76,850</td>\n",
       "      <td>77,000</td>\n",
       "      <td>13,200</td>\n",
       "      <td>185,000</td>\n",
       "      <td>505</td>\n",
       "    </tr>\n",
       "    <tr>\n",
       "      <th>Secretary</th>\n",
       "      <td>54,118</td>\n",
       "      <td>48,851</td>\n",
       "      <td>6,000</td>\n",
       "      <td>165,000</td>\n",
       "      <td>499</td>\n",
       "    </tr>\n",
       "    <tr>\n",
       "      <th>technician</th>\n",
       "      <td>72,393</td>\n",
       "      <td>75,000</td>\n",
       "      <td>21,000</td>\n",
       "      <td>200,000</td>\n",
       "      <td>498</td>\n",
       "    </tr>\n",
       "    <tr>\n",
       "      <th>Customer Service</th>\n",
       "      <td>48,648</td>\n",
       "      <td>42,000</td>\n",
       "      <td>12,000</td>\n",
       "      <td>150,000</td>\n",
       "      <td>497</td>\n",
       "    </tr>\n",
       "    <tr>\n",
       "      <th>Systems Analyst</th>\n",
       "      <td>89,270</td>\n",
       "      <td>89,000</td>\n",
       "      <td>36,000</td>\n",
       "      <td>190,000</td>\n",
       "      <td>496</td>\n",
       "    </tr>\n",
       "    <tr>\n",
       "      <th>Welder</th>\n",
       "      <td>68,948</td>\n",
       "      <td>70,000</td>\n",
       "      <td>15,000</td>\n",
       "      <td>205,000</td>\n",
       "      <td>495</td>\n",
       "    </tr>\n",
       "    <tr>\n",
       "      <th>Project Engineer</th>\n",
       "      <td>86,536</td>\n",
       "      <td>83,000</td>\n",
       "      <td>16,000</td>\n",
       "      <td>201,000</td>\n",
       "      <td>494</td>\n",
       "    </tr>\n",
       "    <tr>\n",
       "      <th>Auditor</th>\n",
       "      <td>79,256</td>\n",
       "      <td>80,000</td>\n",
       "      <td>21,000</td>\n",
       "      <td>171,000</td>\n",
       "      <td>489</td>\n",
       "    </tr>\n",
       "    <tr>\n",
       "      <th>Store manager</th>\n",
       "      <td>81,050</td>\n",
       "      <td>80,000</td>\n",
       "      <td>29,000</td>\n",
       "      <td>200,000</td>\n",
       "      <td>487</td>\n",
       "    </tr>\n",
       "    <tr>\n",
       "      <th>Maintenance</th>\n",
       "      <td>61,099</td>\n",
       "      <td>60,000</td>\n",
       "      <td>14,280</td>\n",
       "      <td>163,000</td>\n",
       "      <td>486</td>\n",
       "    </tr>\n",
       "    <tr>\n",
       "      <th>Loan Officer</th>\n",
       "      <td>103,636</td>\n",
       "      <td>90,000</td>\n",
       "      <td>29,120</td>\n",
       "      <td>750,000</td>\n",
       "      <td>478</td>\n",
       "    </tr>\n",
       "    <tr>\n",
       "      <th>Regional Sales Manager</th>\n",
       "      <td>107,527</td>\n",
       "      <td>100,000</td>\n",
       "      <td>42,000</td>\n",
       "      <td>344,000</td>\n",
       "      <td>475</td>\n",
       "    </tr>\n",
       "    <tr>\n",
       "      <th>Area Manager</th>\n",
       "      <td>98,233</td>\n",
       "      <td>90,000</td>\n",
       "      <td>25,200</td>\n",
       "      <td>600,000</td>\n",
       "      <td>472</td>\n",
       "    </tr>\n",
       "    <tr>\n",
       "      <th>police officer</th>\n",
       "      <td>92,764</td>\n",
       "      <td>90,000</td>\n",
       "      <td>42,000</td>\n",
       "      <td>203,533</td>\n",
       "      <td>466</td>\n",
       "    </tr>\n",
       "    <tr>\n",
       "      <th>Respiratory Therapist</th>\n",
       "      <td>77,517</td>\n",
       "      <td>75,000</td>\n",
       "      <td>30,000</td>\n",
       "      <td>250,000</td>\n",
       "      <td>463</td>\n",
       "    </tr>\n",
       "    <tr>\n",
       "      <th>Registered Nurse</th>\n",
       "      <td>86,088</td>\n",
       "      <td>82,000</td>\n",
       "      <td>36,000</td>\n",
       "      <td>178,000</td>\n",
       "      <td>459</td>\n",
       "    </tr>\n",
       "    <tr>\n",
       "      <th>Deputy Sheriff</th>\n",
       "      <td>84,534</td>\n",
       "      <td>81,000</td>\n",
       "      <td>28,000</td>\n",
       "      <td>233,000</td>\n",
       "      <td>455</td>\n",
       "    </tr>\n",
       "    <tr>\n",
       "      <th>foreman</th>\n",
       "      <td>78,769</td>\n",
       "      <td>76,000</td>\n",
       "      <td>28,000</td>\n",
       "      <td>185,000</td>\n",
       "      <td>455</td>\n",
       "    </tr>\n",
       "    <tr>\n",
       "      <th>US Army</th>\n",
       "      <td>77,367</td>\n",
       "      <td>75,000</td>\n",
       "      <td>27,500</td>\n",
       "      <td>181,252</td>\n",
       "      <td>454</td>\n",
       "    </tr>\n",
       "    <tr>\n",
       "      <th>Associate Professor</th>\n",
       "      <td>92,906</td>\n",
       "      <td>86,200</td>\n",
       "      <td>36,000</td>\n",
       "      <td>400,000</td>\n",
       "      <td>452</td>\n",
       "    </tr>\n",
       "    <tr>\n",
       "      <th>Sales Representative</th>\n",
       "      <td>86,342</td>\n",
       "      <td>80,000</td>\n",
       "      <td>16,000</td>\n",
       "      <td>300,000</td>\n",
       "      <td>451</td>\n",
       "    </tr>\n",
       "    <tr>\n",
       "      <th>Senior Analyst</th>\n",
       "      <td>92,206</td>\n",
       "      <td>87,250</td>\n",
       "      <td>35,000</td>\n",
       "      <td>315,000</td>\n",
       "      <td>450</td>\n",
       "    </tr>\n",
       "  </tbody>\n",
       "</table>\n",
       "<p>142 rows × 5 columns</p>\n",
       "</div>"
      ],
      "text/plain": [
       "                            mean  median    min       max  count\n",
       "emp_title                                                       \n",
       "Teacher                   73,885  75,000  9,000   367,500  13479\n",
       "Manager                   85,749  83,000 12,000 1,000,000  13086\n",
       "Registered Nurse          85,549  82,940 10,900   320,000   7458\n",
       "RN                        85,431  82,000 18,597   285,000   7263\n",
       "Owner                     94,794  85,000  5,000 1,000,000   6554\n",
       "Supervisor                77,233  75,000 14,900   780,000   5627\n",
       "Project Manager           92,724  90,000 22,000   460,000   5584\n",
       "Sales                     88,431  80,000 10,000   650,000   4750\n",
       "Driver                    73,725  75,000  7,000 1,000,000   4743\n",
       "Engineer                  94,608  90,000 25,958   350,000   3849\n",
       "General Manager           94,861  85,000 20,000   700,000   3820\n",
       "Director                 123,526 103,000 18,000 1,000,000   3685\n",
       "President                122,884 100,000  7,956   800,000   2965\n",
       "Office Manager            65,060  67,000 12,725   300,000   2804\n",
       "Operations Manager        86,565  84,000 16,000   315,000   2781\n",
       "owner                     88,673  80,000  8,436   750,000   2667\n",
       "manager                   79,204  76,750 10,000   600,000   2614\n",
       "teacher                   75,559  76,590 12,000   165,000   2602\n",
       "Vice President           141,894 110,000 15,000   825,000   2436\n",
       "Attorney                 112,392  99,000 21,000   800,000   2339\n",
       "Police Officer            88,281  86,000 28,500   307,000   2262\n",
       "Sales Manager            100,696  92,000 21,500   540,000   2235\n",
       "Accountant                76,004  75,000 19,000   467,000   2089\n",
       "driver                    73,237  75,000 14,000   180,000   2050\n",
       "Analyst                   86,032  82,002 19,200   750,000   1924\n",
       "Software Engineer         98,581  95,000 38,400 1,000,000   1916\n",
       "Account Manager           83,767  80,000 22,880   400,000   1857\n",
       "Executive Assistant       77,964  76,960 15,000   270,000   1811\n",
       "Nurse                     77,202  75,179 12,000   200,000   1754\n",
       "Controller                97,427  92,500 17,436   650,000   1699\n",
       "...                          ...     ...    ...       ...    ...\n",
       "Realtor                   88,565  85,000 20,000   340,000    542\n",
       "Management                90,273  85,000 14,083   900,000    542\n",
       "Senior Software Engineer 108,924 106,000 56,000   270,000    527\n",
       "LPN                       53,748  50,000 15,000   120,000    522\n",
       "Legal Secretary           74,249  75,000 17,114   140,000    512\n",
       "Agent                     92,374  90,000 10,320   600,000    512\n",
       "Recruiter                 80,490  79,000 22,410   235,000    509\n",
       "Laborer                   64,515  70,000 10,000   136,000    509\n",
       "Pastor                    76,850  77,000 13,200   185,000    505\n",
       "Secretary                 54,118  48,851  6,000   165,000    499\n",
       "technician                72,393  75,000 21,000   200,000    498\n",
       "Customer Service          48,648  42,000 12,000   150,000    497\n",
       "Systems Analyst           89,270  89,000 36,000   190,000    496\n",
       "Welder                    68,948  70,000 15,000   205,000    495\n",
       "Project Engineer          86,536  83,000 16,000   201,000    494\n",
       "Auditor                   79,256  80,000 21,000   171,000    489\n",
       "Store manager             81,050  80,000 29,000   200,000    487\n",
       "Maintenance               61,099  60,000 14,280   163,000    486\n",
       "Loan Officer             103,636  90,000 29,120   750,000    478\n",
       "Regional Sales Manager   107,527 100,000 42,000   344,000    475\n",
       "Area Manager              98,233  90,000 25,200   600,000    472\n",
       "police officer            92,764  90,000 42,000   203,533    466\n",
       "Respiratory Therapist     77,517  75,000 30,000   250,000    463\n",
       "Registered Nurse          86,088  82,000 36,000   178,000    459\n",
       "Deputy Sheriff            84,534  81,000 28,000   233,000    455\n",
       "foreman                   78,769  76,000 28,000   185,000    455\n",
       "US Army                   77,367  75,000 27,500   181,252    454\n",
       "Associate Professor       92,906  86,200 36,000   400,000    452\n",
       "Sales Representative      86,342  80,000 16,000   300,000    451\n",
       "Senior Analyst            92,206  87,250 35,000   315,000    450\n",
       "\n",
       "[142 rows x 5 columns]"
      ]
     },
     "execution_count": 21,
     "metadata": {},
     "output_type": "execute_result"
    }
   ],
   "source": [
    "pd.options.display.float_format = '{:,.0f}'.format\n",
    "salary_limit = 7e4\n",
    "\n",
    "emp_annual_all = accepted.loc[((accepted['annual_inc'] >= 1.2e5) & (accepted['verification_status'] == 'Verified')) \n",
    "                              | ((accepted['annual_inc'] >= salary_limit) & (accepted['annual_inc'] < 1.2e5)) \n",
    "                              | ((accepted['annual_inc'] < salary_limit) & (accepted['verification_status'] == 'Verified')),\n",
    "                              ['emp_title','annual_inc']].groupby('emp_title')\n",
    "\n",
    "\n",
    "summ_inc = emp_annual_all.agg(['min','mean','median','max', 'count'])\n",
    "summ_inc.columns = summ_inc.columns.levels[1]\n",
    "summ_inc = summ_inc.sort_values(by = ['count','min'], ascending = False)\n",
    "\n",
    "# Filter for professions with more than 500 observations\n",
    "summ_inc = summ_inc[summ_inc['count'] >= 500].sort_values(by = ['count','min'], ascending = False)\n",
    "summ_inc"
   ]
  },
  {
   "cell_type": "markdown",
   "metadata": {},
   "source": [
    "This dataset does have a large diversity in the professions and income level of borrowers. Personally, what I find most interesting is that:\n",
    "\n",
    "- Teacher and Nurse, despite being regarded as respectable professions in some regions in the world, are the 2 most common professions on Lending Club. Their minimum salary is only around \\$12,000, which is lower than US' Poverty Level for individual.\n",
    "- Police officer has a minimum salary of \\$32,000\n",
    "- Many people with annual income higher than \\$400,000 and even \\$1,000,000 still use Lending Club as a way to borrow cheaply. I can dive down into the purpose of the loans later, but that may not offer much benefit for data modeling.\n",
    "- Some job traditionally associated with high income has very min income, such as attorney, director, enginee. And these salaries have been verified by Lending Club. It's likely that these salaries miss a 0's. This is worthy of attention.\n",
    "\n",
    "## Fico range and grade\n",
    "As we have seen in the previous workbook, income distribution is similar across loan grade while income for grade A is a little bit higher."
   ]
  },
  {
   "cell_type": "code",
   "execution_count": null,
   "metadata": {
    "collapsed": true
   },
   "outputs": [],
   "source": [
    "accepted.boxplot(by = 'grade', column = 'fico_range_high')"
   ]
  },
  {
   "cell_type": "markdown",
   "metadata": {},
   "source": [
    "The change in FICO score may be associated with the loans. While I cannot observe how FICO will change over time, it will be an interesting visualization. "
   ]
  },
  {
   "cell_type": "code",
   "execution_count": null,
   "metadata": {
    "collapsed": true
   },
   "outputs": [],
   "source": [
    "fico_change_loanstat = accepted.loc[accepted.loan_status != 'Current',\n",
    "                                    ['fico_range_high','last_fico_range_high','loan_status','target']]\n",
    "# Change in FICO score\n",
    "fico_change_loanstat['change'] = fico_change_loanstat.last_fico_range_high - fico_change_loanstat.fico_range_high\n",
    "\n",
    "chargeoff = accepted['target'] == 1\n",
    "\n",
    "plt.scatter(x = 'fico_range_high', y = 'change', data = fico_change_loanstat[~chargeoff], color = 'r', alpha = 0.1, label = \"Good loans\")\n",
    "plt.scatter(x = 'fico_range_high', y = 'change', data = fico_change_loanstat[chargeoff], color = 'b', alpha = 0.2, label = \"Bad loans\")\n",
    "plt.legend()\n",
    "plt.xlabel(\"FICO at origination\")\n",
    "plt.ylabel(\"FICO change at observation\")"
   ]
  },
  {
   "cell_type": "markdown",
   "metadata": {},
   "source": [
    "We can easily see that Bad Loans can happen regardless of FICO score at origination. However, loans where the FICO score is lower than 750 is disproportionately more likely to become a bad loan. \n",
    "\n",
    "## Charge off rate vs Verification status\n",
    "My hypothesis is that Lending Club tends to take the effort to verify a borrower's income only when it is _high_. To quickly examine this hypothesis, I look at the charge off rate across each grade depending on whether the income is Verified or not.\n",
    "\n",
    "I define that a loan is considered charge-off when the value of *loan_status* is Charged Off or Default. I can expand it to 90 days behind dues, but it does not make that large of a difference."
   ]
  },
  {
   "cell_type": "code",
   "execution_count": 8,
   "metadata": {
    "collapsed": false
   },
   "outputs": [
    {
     "data": {
      "text/plain": [
       "<matplotlib.axes._subplots.AxesSubplot at 0x2217418ec18>"
      ]
     },
     "execution_count": 8,
     "metadata": {},
     "output_type": "execute_result"
    },
    {
     "data": {
      "image/png": "[encoded data removed]",
      "text/plain": [
       "<matplotlib.figure.Figure at 0x2217418edd8>"
      ]
     },
     "metadata": {},
     "output_type": "display_data"
    }
   ],
   "source": [
    "accepted['verified'] = accepted['verification_status'] == 'Verified'\n",
    "grade_yr_loanamnt = pd.pivot_table(accepted,index=[\"grade\",\"verified\"], values=['funded_amnt'], aggfunc=np.sum)\n",
    "\n",
    "grade_yr_loanamnt_default = pd.pivot_table(accepted[(accepted.loan_status == 'Charged Off') | (accepted.loan_status == 'Default')],\n",
    "                                           index=[\"grade\",\"verified\"], values=['funded_amnt'], aggfunc=np.sum)\n",
    "\n",
    "grade_yr_loanamnt_default.columns = ['Charged_off']\n",
    "\n",
    "loan_verified = pd.merge(grade_yr_loanamnt, grade_yr_loanamnt_default, left_index = True, right_index = True)\n",
    "loan_verified['chargeoff_rate']  = loan_verified['Charged_off'] /  loan_verified['funded_amnt'] \n",
    "\n",
    "loan_verified_unstack = loan_verified.unstack(\"verified\")\n",
    "verified_chargedoff = loan_verified_unstack['chargeoff_rate']\n",
    "verified_chargedoff.plot()\n"
   ]
  },
  {
   "cell_type": "markdown",
   "metadata": {},
   "source": [
    "Based on the graph, we can safely reject my hypothesis. Loans that have verified income actually has a high level of charge-off. It is reasonable to assume that these loans are often associated with lower level of income, hence higher charge-off. \n",
    "\n",
    "The graph also show that the charge-off rate changes almost linearly from grade A (highest grade) through grade G. The charge-off rate for grade F-G is approximately 25%. To compare, this is still lower than that historic default rate of non-investment grade bond, which is higher than 30% ([Wikipedia Credit Rating](https://en.wikipedia.org/wiki/Bond_credit_rating).)\n",
    "\n",
    "\n",
    "# Modeling\n",
    "With the status of being a Good or Bad Loan our variable of interest, we can approach this as a classification problem. This is still an exploratory phase so please excuse the haphazard approach. First, define our target:"
   ]
  },
  {
   "cell_type": "code",
   "execution_count": null,
   "metadata": {
    "collapsed": true
   },
   "outputs": [],
   "source": [
    "accepted = accepted.loc[accepted.loan_status != 'Current', :]\n",
    "accepted['target'] = 1\n",
    "accepted.loc[(accepted.loan_status == 'Fully Paid') | (accepted.loan_status == 'In Grace Period'), 'target'] = 0"
   ]
  },
  {
   "cell_type": "markdown",
   "metadata": {},
   "source": [
    "Let's see the columns that we have:"
   ]
  },
  {
   "cell_type": "code",
   "execution_count": null,
   "metadata": {
    "collapsed": true
   },
   "outputs": [],
   "source": [
    "accepted.columns"
   ]
  },
  {
   "cell_type": "markdown",
   "metadata": {},
   "source": [
    "Generally, *bc* stands for bank cards. *il* stands for installment.\n",
    "*num_actv_bc_tl* is number of active bank card accounts.\n",
    "\n",
    "I calculate a few more variables:\n",
    "- *Balance_annual_inc* is the ratio of current balance over annual income, similarly for *install_annual*.\n",
    "- *install_loan_ratio* is the ratio of monthly installment / loan amount. This should be very similar to rate, and therefore to the grade of the loan\n",
    "- *disposable_inc* is the amount of disposable income each month after mortgage payment and payment for Lending Club loans\n",
    "- *dti_new* is *disposable_inc* \\* 12 / *annual_inc*\n",
    "\n",
    "I plan to approach using a series of tree-model, which does not handle well the difference and interaction between features. "
   ]
  },
  {
   "cell_type": "code",
   "execution_count": null,
   "metadata": {
    "collapsed": true
   },
   "outputs": [],
   "source": [
    "# Assuming that if borrowing for debt consolidation, they actually have more disposable income\n",
    "accepted.loc[:, 'temp'] = np.where((accepted.purpose == 'debt_consolidation') | (accepted.purpose == 'credit_card'),0.5, -1.0)\n",
    "accepted.loc[:, 'disposable_inc'] = (1 - accepted['dti']/100)*accepted['annual_inc']/12 + accepted['temp'] * accepted['installment']    \n",
    "accepted.loc[:, 'disposable_ratio']= accepted['disposable_inc']*12/ accepted['annual_inc']\n",
    "\n",
    "accepted.drop('temp', axis = 1)\n",
    "\n",
    "accepted_train.loc[:, 'cr_yr_before_loan'] = accepted_train['issue_yr'] - accepted_train['earliest_cr_yr']\n",
    "\n",
    "accepted['log_annual_inc'] = np.log(accepted.annual_inc)\n",
    "accepted['log_installment'] = np.log(accepted.installment)\n",
    "\n",
    "accepted['install_loan_ratio'] = accepted['installment'] / accepted['loan_amnt']\n",
    "accepted['balance_annual_inc'] = accepted['loan_amnt'] / accepted['annual_inc']\n",
    "accepted['install_annual'] = accepted['installment'] / accepted['annual_inc']"
   ]
  },
  {
   "cell_type": "code",
   "execution_count": null,
   "metadata": {
    "collapsed": true
   },
   "outputs": [],
   "source": [
    "selected_features = ['loan_amnt', 'term', 'int_rate', 'installment'\n",
    "            # , 'grade' - grade is dropped because it is highly correlated with int_rate\n",
    "            ,'emp_length', 'home_ownership', 'annual_inc', 'verification_status'\n",
    "            # ,'issue_d'\n",
    "            # , 'purpose'\n",
    "            ,'dti', 'delinq_2yrs'\n",
    "            ,'fico_range_high', 'inq_last_6mths', 'open_acc', 'pub_rec', 'revol_bal'\n",
    "            ,'revol_util', 'total_acc'\n",
    "            #, 'out_prncp', 'total_pymnt', 'total_rec_int','total_rec_late_fee', 'recoveries', 'collection_recovery_fee'\n",
    "            #,'last_pymnt_d', 'last_pymnt_amnt', 'last_credit_pull_d',\n",
    "            #,'last_fico_range_high', 'collections_12_mths_ex_med', 'acc_now_delinq'\n",
    "            #,'tot_coll_amt', \n",
    "            ,'tot_cur_bal', 'total_rev_hi_lim','acc_open_past_24mths', 'bc_open_to_buy', 'bc_util'\n",
    "            ,'chargeoff_within_12_mths', 'delinq_amnt', 'mo_sin_old_il_acct'\n",
    "            ,'mo_sin_old_rev_tl_op', 'mo_sin_rcnt_rev_tl_op', 'mo_sin_rcnt_tl'\n",
    "            ,'mort_acc', 'mths_since_recent_bc', 'num_accts_ever_120_pd'\n",
    "            ,'num_actv_bc_tl', 'num_actv_rev_tl', 'num_bc_sats', 'num_bc_tl'\n",
    "            ,'num_il_tl', 'num_op_rev_tl', 'num_rev_accts', 'num_rev_tl_bal_gt_0'\n",
    "            ,'num_sats', 'num_tl_120dpd_2m', 'num_tl_30dpd', 'num_tl_90g_dpd_24m'\n",
    "            ,'num_tl_op_past_12m', 'pct_tl_nvr_dlq', 'percent_bc_gt_75'\n",
    "            ,'pub_rec_bankruptcies', 'tot_hi_cred_lim'\n",
    "            ,'total_bal_ex_mort'\n",
    "            ,'total_bc_limit', 'total_il_high_credit_limit'\n",
    "            #,'issue_yr'\n",
    "            #,'earliest_cr_yr'\n",
    "            ,'loan_status','target'\n",
    "            ,'cr_yr_before_loan'\n",
    "            ,'log_annual_inc', 'log_installment'\n",
    "            ,'disposable_inc', 'install_loan_ratio', 'disposable_ratio', 'balance_annual_inc'\n",
    "            ,'install_annual']"
   ]
  },
  {
   "cell_type": "markdown",
   "metadata": {},
   "source": [
    "Create testing and training set: I can use train_test_split, but I decide to be more realistic and see what happen if I use the training data until 2016 and test on the data in 2017. In reality, there should probably be another validation set, for example: training data only lasts until 2015, then 2016 data is used as validation. "
   ]
  },
  {
   "cell_type": "code",
   "execution_count": null,
   "metadata": {
    "collapsed": true
   },
   "outputs": [],
   "source": [
    "accepted_train_clean = accepted.loc[accepted.issue_yr != 2017, :]\n",
    "accepted2017_clean = accepted.loc[accepted.issue_yr == 2017, :]\n",
    "print(\"Training size\", accepted_train_clean.shape)\n",
    "print(\"Testing size\", accepted2017_clean.shape)"
   ]
  },
  {
   "cell_type": "code",
   "execution_count": null,
   "metadata": {
    "collapsed": true
   },
   "outputs": [],
   "source": [
    "## In my experiments, I actually output these 2 datasets so that \n",
    "## I can come back to them with ease instead of having to run the whole workbook again\n",
    "# accepted_train_clean.to_csv(ROOT_PATH + './input_clean/train.csv', index = False)\n",
    "# accepted2017_clean.to_csv(ROOT_PATH + './input_clean/test.csv', index = False)"
   ]
  },
  {
   "cell_type": "markdown",
   "metadata": {},
   "source": [
    "## Helper function\n",
    "Define a few helper function:"
   ]
  },
  {
   "cell_type": "code",
   "execution_count": null,
   "metadata": {
    "collapsed": true
   },
   "outputs": [],
   "source": [
    "def GetAUC(model, X_train, y_train, X_test, y_test):\n",
    "    '''\n",
    "    To quickly get the AUC of model on the training and testing set\n",
    "    '''\n",
    "    res = [0.0, 0.0]\n",
    "    y_train_score = model.predict_proba(X_train)[:, 1]\n",
    "    res[0] = metrics.roc_auc_score(y_train, y_train_score)\n",
    "    print(\"In sample\", res[0])\n",
    "    \n",
    "    y_test_score = model.predict_proba(X_test)[:, 1]\n",
    "    res[1] = metrics.roc_auc_score(y_test, y_test_score)\n",
    "    print(\"Out of sample\", res[1])\n",
    "    \n",
    "def GetXY(df, features):\n",
    "    '''\n",
    "    Select the subset of features\n",
    "    Create dummy variables if needed\n",
    "    '''\n",
    "    df = df.loc[:, features]\n",
    "\n",
    "    categorical_features = ['term', 'home_ownership', 'verification_status']\n",
    "    \n",
    "    for cat_feature in categorical_features:\n",
    "        if cat_feature in train.columns:\n",
    "            train = pd.get_dummies(train, prefix = [cat_feature], columns = [cat_feature], drop_first = True)\n",
    "            \n",
    "    X = train.drop(['loan_status', 'target'], axis = 1)\n",
    "    y = train.target\n",
    "    \n",
    "    return X, y"
   ]
  },
  {
   "cell_type": "code",
   "execution_count": null,
   "metadata": {
    "collapsed": true
   },
   "outputs": [],
   "source": [
    "X, y = GetXY(accepted_train_clean, selected_features)\n",
    "X_test, y_test = GetXY(accepted2017_clean, selected_features)"
   ]
  },
  {
   "cell_type": "markdown",
   "metadata": {},
   "source": [
    "## Baseline model\n",
    "Please follow Vince Poceta's workbook. I expected the AUC to be around 0.65.\n",
    "\n",
    "## Simple feature selection\n",
    "I feel that 100 features are too much for this kind of problem. I will attempt to fit Gradient Boosting and Random Forest on this data as some form of simple Feature Selection method. There are other established methods, like Boruta, but the computation is also much more."
   ]
  },
  {
   "cell_type": "code",
   "execution_count": null,
   "metadata": {
    "collapsed": true
   },
   "outputs": [],
   "source": [
    "gbm = GradientBoostingClassifier(max_depth = 6, n_estimators= 400, max_features = 0.3)\n",
    "gbm.fit(X, y)\n",
    "GetAUC(gbm, X, y, X_test, y_test)"
   ]
  },
  {
   "cell_type": "code",
   "execution_count": null,
   "metadata": {
    "collapsed": true
   },
   "outputs": [],
   "source": [
    "rfc = RandomForestClassifier(max_depth = 6, n_estimators= 400, class_weight = {0: 1, 1:10})\n",
    "rfc.fit(X, y)\n",
    "GetAUC(gbm, X, y, X_test, y_test)"
   ]
  },
  {
   "cell_type": "markdown",
   "metadata": {},
   "source": [
    "Let's check the feature importance from these 2 models. I mainly pay attention to *Max of feature importance* divided by the feature importances. As such, the feature with the highest feature importance will receive a value of 1, and the feature will lowest feature importance will receive a large value."
   ]
  },
  {
   "cell_type": "code",
   "execution_count": null,
   "metadata": {
    "collapsed": true
   },
   "outputs": [],
   "source": [
    "pd.options.display.float_format = '{:,.2f}'.format\n",
    "feature_imp = pd.DataFrame({'name': X.columns, 'imp': gbm.feature_importances_}).sort_values(by = 'imp', ascending = False)\n",
    "\n",
    "feature_imp['mult_gbm'] = feature_imp.imp.max() / feature_imp['imp']\n",
    "feature_imp['mult_rfc'] = rfc.feature_importances_.max() / rfc.feature_importances_\n",
    "\n",
    "feature_imp.to_csv(ROOT_PATH + './model_run/feature_importance.csv')"
   ]
  },
  {
   "cell_type": "markdown",
   "metadata": {},
   "source": [
    "From testing the model, I feel that GBM can easily overfit the data, plus the feature importance from GBM mostly make sense, so I put my faith in this. \n",
    "\n",
    "Even though I should not pay too much attention in the scale of the feature importance, I feel that a difference of 6 times in magnitude may signify something, so I only select a subset "
   ]
  },
  {
   "cell_type": "code",
   "execution_count": null,
   "metadata": {
    "collapsed": true
   },
   "outputs": [],
   "source": [
    "selected = feature_imp.loc[feature_imp.mult_gbm < 6, ['name','mult_gbm']]\n",
    "X_reduced = X[selected.name.values]\n",
    "X_test_reduced = X_test[selected.name.values]\n",
    "\n",
    "X_reduced.shape\n",
    "X_reduced.columns"
   ]
  },
  {
   "cell_type": "markdown",
   "metadata": {},
   "source": [
    "## Model\n",
    "\n",
    "It appears that we no longer have any categorical data such as Homeownership. Now I attempt a series of test to see if I can improve the model's AUC. In practice, I should pay attention to other criteria such as F1 and recall as well. The list of models that I have tried:\n",
    "- Logistic Regression: both used in Google and Facebook's CTR prediction \n",
    "- GBM: the work horse, I can over fit the data and see what may happen\n",
    "- Mas-o-Menos: simple classification techniques by researchers at Harvard University. I read about this technique in the paper 50 years of Data Science as  an illustration of a simple, effective techique that trumps many other complicated algorithms in practice. Not surprisingly, this simple technique performs quite well for this dataset.\n",
    "- Scale the data in multiple way:\n",
    "> Standard Scaler: which I am very skeptical of if I have any categorical data <br>\n",
    "> a Scaling method from Airbnb <br>\n",
    "> Combination between Scaling and Over / Undersampling <br>\n"
   ]
  },
  {
   "cell_type": "code",
   "execution_count": null,
   "metadata": {
    "collapsed": true
   },
   "outputs": [],
   "source": [
    "from sklearn.base import BaseEstimator\n",
    "from sklearn.linear_model import LogisticRegression\n",
    "\n",
    "class MasOrMenos(BaseEstimator):\n",
    "    def __init__(self):\n",
    "        self.NumFeatures = 0\n",
    "        self.coeffs = None\n",
    "        self.model = LogisticRegression()\n",
    "        \n",
    "    def fit(self, X_train, y_train):\n",
    "        self.NumFeatures = X_train.shape[1]\n",
    "        sqrtNumFeatures = np.sqrt(self.NumFeatures)\n",
    "        self.coeffs = [0.0] * self.NumFeatures\n",
    "        for i in range(self.NumFeatures):\n",
    "            self.model.fit(X_train.iloc[:, i:(i+1)], y_train)\n",
    "            self.coeffs[i] = np.sign(self.model.coef_[0]) / sqrtNumFeatures\n",
    "        \n",
    "        self.coeffs = np.array(self.coeffs).reshape(-1,1)\n",
    "    \n",
    "    def sigmoid(self, x):\n",
    "        return (1/ (1 + np.exp(-x)))\n",
    "\n",
    "    def predict_proba(self, X_test):\n",
    "        tmp = np.zeros((X_test.shape[0], 2))\n",
    "        tmp[:, 1] = self.sigmoid(np.matmul(X_test, self.coeffs))[:,0]\n",
    "    \n",
    "        return tmp\n",
    "    \n",
    "    def predict(self, X_test):\n",
    "        return self.predict_proba(X_test)[:, 1]"
   ]
  },
  {
   "cell_type": "code",
   "execution_count": null,
   "metadata": {
    "collapsed": true
   },
   "outputs": [],
   "source": [
    "modelList = {'mm': MasOrMenos()\n",
    "             ,'rfc':rfc = RandomForestClassifier(n_estimators= 300, max_depth = 5, class_weight = {0: 1, 1:10})\n",
    "             ,'logistic': linear_model.LogisticRegression()\n",
    "             ,'logistic_l1_05': linear_model.LogisticRegression(penalty='l1')\n",
    "             ,'logistic_l1_4': linear_model.LogisticRegression(penalty='l1', C = 4.0)\n",
    "             ,'gbm': GradientBoostingClassifier(max_depth = 5, n_estimators= 300, subsample = 0.8, max_features = 0.5)\n",
    "             ,'gbm_overfit': GradientBoostingClassifier(max_depth = 10, n_estimators= 300,\n",
    "                                   subsample = 0.8, max_features = 0.5)\n",
    "            }"
   ]
  },
  {
   "cell_type": "markdown",
   "metadata": {},
   "source": [
    "### Rescaling\n",
    "I attempt a feature engineering method from Airbnb [here](https://medium.com/airbnb-engineering/overcoming-missing-values-in-a-random-forest-classifier-7b1fc1fc03ba) and transform all features into 0 and 1 scale, basically:\n",
    "$$x\\Rightarrow Pr(X \\leq x \\| Y = 1)$$\n",
    "Luckily, my reduced set of features are all numerical. "
   ]
  },
  {
   "cell_type": "code",
   "execution_count": null,
   "metadata": {
    "collapsed": true
   },
   "outputs": [],
   "source": [
    "### Standard scaler\n",
    "from sklearn.preprocessing import StandardScaler\n",
    "\n",
    "scaler = StandardScaler()\n",
    "X_standardScaled = scaler.fit_transform(X_reduced)\n",
    "X_test_standardScaled = scaler.transform(X_test_reduced)"
   ]
  },
  {
   "cell_type": "code",
   "execution_count": null,
   "metadata": {
    "collapsed": true
   },
   "outputs": [],
   "source": [
    "### Airbnb Scaler\n",
    "X_reshaped_target = X_reduced[y == 1]\n",
    "print(\"Shape of the referenced dataset\", X_reshaped_target.shape)\n",
    "\n",
    "def Transform_to_CDF(data_, compare):\n",
    "    data_sorted = data_.sort_values()\n",
    "    data = data_sorted.values\n",
    "    \n",
    "    compare = compare.sort_values().values\n",
    "    output = [0] * len(data)\n",
    "    idx_data = 0\n",
    "    idx_compare = 0\n",
    "    loop = True\n",
    "    \n",
    "    tmp = 0\n",
    "    \n",
    "    while loop:\n",
    "        if idx_compare == len(compare):\n",
    "            if idx_data < len(data):\n",
    "                for i in range(idx_data, len(data)):\n",
    "                    output[i] = tmp    \n",
    "            break\n",
    "        if idx_data == len(data):\n",
    "            break\n",
    "        if data[idx_data] < compare[idx_compare]:\n",
    "            output[idx_data] = tmp\n",
    "            idx_data += 1\n",
    "        else:\n",
    "            tmp += 1\n",
    "            idx_compare += 1\n",
    "    \n",
    "    output = pd.Series(output, index = data_sorted.index)\n",
    "    return output[data_.index]\n",
    "\n",
    "X_bnbScaled = X_reduced.copy()\n",
    "for i in range(X_reduced.shape[1]):\n",
    "    X_bnbScaled.iloc[:, i] = Transform_to_CDF(X_reduced.iloc[:, i], X_reshaped_target.iloc[:, i])\n",
    "X_bnbScaled = X_bnbScaled / X_reshaped_target.shape[0]\n",
    "\n",
    "X_test_bnbScaled = X_test_reduced.copy()\n",
    "for i in range(X_test_reduced.shape[1]):\n",
    "    X_test_bnbScaled.iloc[:, i] = Transform_to_CDF(X_test_reduced.iloc[:, i], X_reshaped_target.iloc[:, i])\n",
    "X_test_bnbScaled = X_test_bnbScaled / X_reshaped_target.shape[0]"
   ]
  },
  {
   "cell_type": "code",
   "execution_count": null,
   "metadata": {
    "collapsed": true
   },
   "outputs": [],
   "source": [
    "### Apply sampling method\n",
    "from imblearn.over_sampling import SMOTE\n",
    "from imblearn.under_sampling import RandomUnderSampler\n",
    "\n",
    "smote = SMOTE(random_state=1234)\n",
    "underSampler = RandomUnderSampler(random_state=1234)\n",
    "\n",
    "X_standardScaled_smote, y_standardScaled_smote = smote.fit_sample(X_standardScaled, y)\n",
    "X_bnbScaled_smote, y_bnbScaled_smote = smote.fit_sample(X_bnbScaled, y)\n",
    "\n",
    "X_standardScaled_underSample, y_standardScaled_underSample = underSampler.fit_sample(X_standardScaled, y)\n",
    "X_bnbScaled_underSample, y_bnbScaled_underSample = underSampler.fit_sample(X_bnbScaled, y)"
   ]
  },
  {
   "cell_type": "code",
   "execution_count": null,
   "metadata": {
    "collapsed": true
   },
   "outputs": [],
   "source": [
    "# Run models\n",
    "dataList = {\n",
    "    'base': [X_reduced, y, X_test]\n",
    "    ,'standardScaled': [X_standardScaled, y\n",
    "                        , X_test_standardScaled]\n",
    "    ,'bnbScaled': [X_bnbScaled, y\n",
    "                   , X_test_bnbScaled]\n",
    "    ,'standardScaled_smote': [X_standardScaled_smote, y_standardScaled_smote\n",
    "                              , X_test_standardScaled]\n",
    "    ,'standardScaled_underSample': [X_standardScaled_underSample, y_standardScaled_underSample\n",
    "                                    , X_test_standardScaled]\n",
    "    ,'bnbScaled_smote': [X_bnbRescaled_smote, y_bnbRescaled_smote\n",
    "                         , X_test_bnbRescaled]\n",
    "    ,'bnbScaled_underSample':[X_bnbRescaled_underSample, y_bnbRescaled_underSample\n",
    "                              , X_test_bnbRescaled]\n",
    "}\n",
    "\n",
    "cols = ['model','In sample','Test sample','runtime']\n",
    "models_report = pd.DataFrame(columns = cols)"
   ]
  },
  {
   "cell_type": "code",
   "execution_count": null,
   "metadata": {
    "collapsed": true
   },
   "outputs": [],
   "source": [
    "for model in modelList: \n",
    "    for trainData in dataList:\n",
    "        start = time.time()\n",
    "        thisModel = modelList[model]\n",
    "        thisModel.fit(dataList[trainData][0], dataList[trainData][1])\n",
    "        runtime = (time.time() - start) / 60\n",
    "        \n",
    "        joblib.dump(thisModel, ROOT_PATH + './model_run/' + model + '_' + trainData + '.pkl')\n",
    "        \n",
    "        y_score = thisModel.predict_proba(dataList[trainData][0])[:, 1]\n",
    "        y_test_score = thisModel.predict_proba(dataList[trainData][2])[:, 1]\n",
    "        \n",
    "        tmp = pd.Series({'model_type': model,\n",
    "                         'In sample': metrics.roc_auc_score(dataList[trainData][1], y_score),\n",
    "                         'Test sample' : metrics.roc_auc_score(y_test, y_test_score),\n",
    "                         'runtime': runtime,\n",
    "                         })\n",
    "\n",
    "        models_report = models_report.append(tmp, ignore_index = True)\n",
    "\n",
    "models_report.to_csv(ROOT_PATH + './model_run/' + 'models_report.csv' )\n",
    "models_report"
   ]
  }
 ],
 "metadata": {
  "kernelspec": {
   "display_name": "Python [Root]",
   "language": "python",
   "name": "Python [Root]"
  },
  "language_info": {
   "codemirror_mode": {
    "name": "ipython",
    "version": 3
   },
   "file_extension": ".py",
   "mimetype": "text/x-python",
   "name": "python",
   "nbconvert_exporter": "python",
   "pygments_lexer": "ipython3",
   "version": "3.5.2"
  }
 },
 "nbformat": 4,
 "nbformat_minor": 2
}
