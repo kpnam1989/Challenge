{
 "cells": [
  {
   "cell_type": "markdown",
   "metadata": {},
   "source": [
    "This workbook is a continuation of my exploration of loan data from Lending Club. I assume that I have filtered loans originated in 2017 only. It is entirely possible to include all loans originated from 2007 to 2017. However, I feel that loans in 2017 are representative of the whole population and should be a higher quality due to the continuous improvement in data management and governance from Lending Club. Moreover, using only data from 2017, which is a fraction of total loans, will allow much faster computation. \n",
    "\n",
    "In this workbook, I explore the data by:\n",
    "* Exploring the distribution of annual income across different professions\n",
    "* Exploring the Good and Bad loans depending on FICO scores at origination \n",
    "* Building a simple model to predict whether a loan is Good or Bad.\n",
    "\n",
    "A Good loan is defined as a loan that has paid off completely or an in Grace Period. However, further iteration may refine further."
   ]
  },
  {
   "cell_type": "code",
   "execution_count": 1,
   "metadata": {
    "collapsed": true
   },
   "outputs": [],
   "source": [
    "%matplotlib inline\n",
    "import os \n",
    "import pandas as pd\n",
    "from matplotlib import pyplot as plt\n",
    "import numpy as np\n",
    "import datetime\n",
    "import seaborn as sns\n",
    "\n",
    "accepted_original = pd.read_csv('accepted2017.csv', encoding = \"ISO-8859-1\")\n",
    "accepted = accepted_original"
   ]
  },
  {
   "cell_type": "markdown",
   "metadata": {},
   "source": [
    "I decide to drop several columns because they are a linear combination of others, or they contain too little information.\n",
    "\n",
    "As for Zip Code, we only have the first 3 number so this feature is not helpful."
   ]
  },
  {
   "cell_type": "code",
   "execution_count": 2,
   "metadata": {
    "collapsed": true
   },
   "outputs": [],
   "source": [
    "# Drop columns\n",
    "accepted = accepted.drop(['title', 'funded_amnt'], axis = 1)\n",
    "# accepted = accepted.drop(['title', 'funded_amnt', 'funded_amnt_inv'], axis = 1)\n",
    "\n",
    "# linear combination of other columns\n",
    "accepted = accepted.drop(['out_prncp_inv','total_rec_prncp','total_pymnt_inv'], axis = 1)\n",
    "\n",
    "accepted = accepted.drop([\"fico_range_low\", \"last_fico_range_low\",\n",
    "                         'avg_cur_bal',\n",
    "                         'addr_state', 'initial_list_status', 'pymnt_plan',\n",
    "                         'application_type', 'hardship_flag', 'disbursement_method',\n",
    "                          'debt_settlement_flag','sub_grade',\n",
    "                         'zip_code', 'id','policy_code','tax_liens', 'tax_liens'], axis = 1)\n"
   ]
  },
  {
   "cell_type": "markdown",
   "metadata": {},
   "source": [
    "I transform a few variables into the date type for easier analysis later. I also transform the term from '36 months' or '60 months' into '36' or '60' as strings."
   ]
  },
  {
   "cell_type": "code",
   "execution_count": 3,
   "metadata": {
    "collapsed": true
   },
   "outputs": [],
   "source": [
    "# Transform variables\n",
    "accepted['issue_d'] = pd.to_datetime(accepted.issue_d)\n",
    "accepted['last_pymnt_d'] = pd.to_datetime(accepted['last_pymnt_d'])\n",
    "accepted['issue_yr'] = accepted.issue_d.dt.year\n",
    "accepted['earliest_cr_line'] = pd.to_datetime(accepted.earliest_cr_line)\n",
    "\n",
    "accepted['early_cr_yr'] = accepted.earliest_cr_line.dt.year\n",
    "\n",
    "accepted.term = accepted.term.apply(str)\n",
    "accepted['term'] = accepted['term'].apply(lambda x: x.strip().split(\" \")[0])"
   ]
  },
  {
   "cell_type": "code",
   "execution_count": 4,
   "metadata": {
    "collapsed": false
   },
   "outputs": [
    {
     "data": {
      "text/plain": [
       "Timestamp('2017-12-01 00:00:00')"
      ]
     },
     "execution_count": 4,
     "metadata": {},
     "output_type": "execute_result"
    }
   ],
   "source": [
    "currentDate = accepted.last_pymnt_d.max() # Dec 01, 2017\n",
    "currentDate"
   ]
  },
  {
   "cell_type": "markdown",
   "metadata": {},
   "source": [
    "Further transformation includes:\n",
    "- Filtering for loans where the reported income is less than 1 million USD\n",
    "- Filtering for loans where Debt-to-Income ratio is less than 100 percent. If it is greater than or equal to 100, I wonder why we have made such loans in the first place. I could have been more careful by capping dti value at 100. \n",
    "- Changing employment years into numeric\n",
    "- Filling unknown values for home-ownership as Rent\n",
    "- Standardizing the values of employment title (emp_title)"
   ]
  },
  {
   "cell_type": "code",
   "execution_count": 5,
   "metadata": {
    "collapsed": false,
    "scrolled": true
   },
   "outputs": [
    {
     "name": "stderr",
     "output_type": "stream",
     "text": [
      "C:\\Anaconda\\lib\\site-packages\\ipykernel\\__main__.py:6: SettingWithCopyWarning: \n",
      "A value is trying to be set on a copy of a slice from a DataFrame\n",
      "\n",
      "See the caveats in the documentation: http://pandas.pydata.org/pandas-docs/stable/indexing.html#indexing-view-versus-copy\n",
      "C:\\Anaconda\\lib\\site-packages\\ipykernel\\__main__.py:10: SettingWithCopyWarning: \n",
      "A value is trying to be set on a copy of a slice from a DataFrame\n",
      "\n",
      "See the caveats in the documentation: http://pandas.pydata.org/pandas-docs/stable/indexing.html#indexing-view-versus-copy\n"
     ]
    }
   ],
   "source": [
    "leq1mil = accepted['annual_inc'] <= 1e6\n",
    "accepted = accepted[leq1mil]\n",
    "accepted = accepted[accepted.dti < 100.0]\n",
    "\n",
    "accepted.emp_length[accepted.emp_length == '10+ years'] = '10 years'\n",
    "accepted.emp_length[accepted.emp_length == '< 1 year'] = '0 year'\n",
    "accepted.emp_length = accepted.emp_length.apply(lambda x: int(x.split(' ')[0]))\n",
    "\n",
    "accepted.emp_title = accepted.emp_title.apply(lambda x: x.strip().lower())\n",
    "accepted.emp_title = accepted.emp_title.replace(['lpn','registered nurse', 'rn'], 'nurse')\n",
    "\n",
    "accepted.home_ownership = accepted.home_ownership.replace(['ANY', 'NONE'], 'RENT')\n"
   ]
  },
  {
   "cell_type": "markdown",
   "metadata": {},
   "source": [
    "My goal is to build a simple, effective model on Lending Club data first, so I seek to identify whether the loan is a Good or Bad loan. Good Loan is defined as loans that are Fully Paid or in Grace Period, even though 30% of loans in Grace Period will become charge-off in 9 months, according to data from Lending club [here](https://www.lendingclub.com/info/demand-and-credit-profile.action)\n",
    "\n",
    "Going forward in the modeling process, I actually test and train only on loans where the *loan_status* is different from Current. The scope of the dataset only allows a Snapshot of the loan at inception and in December 2017, so it is impossible to learn how a Current loan may evolve into a Good or Bad loan."
   ]
  },
  {
   "cell_type": "code",
   "execution_count": 6,
   "metadata": {
    "collapsed": true
   },
   "outputs": [],
   "source": [
    "accepted['target'] = 1\n",
    "accepted.loc[(accepted.loan_status == 'Current') |(accepted.loan_status == 'Fully Paid') | (accepted.loan_status == 'In Grace Period'),\n",
    "      'target'] = 0"
   ]
  },
  {
   "cell_type": "code",
   "execution_count": 14,
   "metadata": {
    "collapsed": false
   },
   "outputs": [
    {
     "data": {
      "text/plain": [
       "Source Verified    113971\n",
       "Not Verified        98618\n",
       "Verified            64259\n",
       "Name: verification_status, dtype: int64"
      ]
     },
     "execution_count": 14,
     "metadata": {},
     "output_type": "execute_result"
    }
   ],
   "source": [
    "accepted.verification_status.value_counts()"
   ]
  },
  {
   "cell_type": "markdown",
   "metadata": {},
   "source": [
    "# Income distribution\n",
    "Because of the large number of observations that we have, we can construct a reliable distribution of annual incomes. Because people will most likely lie on their incomes when their income is low, we can filter out for data if:\n",
    "* Income is lower than \\$70,000 but has been verified by Lending Club\n",
    "* Income is higher than \\$70,000 but lower than \\$120,000\n",
    "* Income is higher than \\$120,000 but has been verified by Lending Club\n",
    "\n",
    "The choice of limit of \\$70,000 and \\$120,000 is arbitrary to filter out loans where income levels seem unrealistic. "
   ]
  },
  {
   "cell_type": "code",
   "execution_count": 19,
   "metadata": {
    "collapsed": false
   },
   "outputs": [
    {
     "data": {
      "text/html": [
       "<div>\n",
       "<style scoped>\n",
       "    .dataframe tbody tr th:only-of-type {\n",
       "        vertical-align: middle;\n",
       "    }\n",
       "\n",
       "    .dataframe tbody tr th {\n",
       "        vertical-align: top;\n",
       "    }\n",
       "\n",
       "    .dataframe thead th {\n",
       "        text-align: right;\n",
       "    }\n",
       "</style>\n",
       "<table border=\"1\" class=\"dataframe\">\n",
       "  <thead>\n",
       "    <tr style=\"text-align: right;\">\n",
       "      <th></th>\n",
       "      <th>mean</th>\n",
       "      <th>median</th>\n",
       "      <th>min</th>\n",
       "      <th>max</th>\n",
       "      <th>count</th>\n",
       "    </tr>\n",
       "    <tr>\n",
       "      <th>emp_title</th>\n",
       "      <th></th>\n",
       "      <th></th>\n",
       "      <th></th>\n",
       "      <th></th>\n",
       "      <th></th>\n",
       "    </tr>\n",
       "  </thead>\n",
       "  <tbody>\n",
       "    <tr>\n",
       "      <th>nurse</th>\n",
       "      <td>84,960</td>\n",
       "      <td>82,000</td>\n",
       "      <td>13,000</td>\n",
       "      <td>300,000</td>\n",
       "      <td>4878</td>\n",
       "    </tr>\n",
       "    <tr>\n",
       "      <th>teacher</th>\n",
       "      <td>75,090</td>\n",
       "      <td>76,000</td>\n",
       "      <td>12,000</td>\n",
       "      <td>156,000</td>\n",
       "      <td>3554</td>\n",
       "    </tr>\n",
       "    <tr>\n",
       "      <th>manager</th>\n",
       "      <td>85,456</td>\n",
       "      <td>83,000</td>\n",
       "      <td>15,000</td>\n",
       "      <td>500,000</td>\n",
       "      <td>3425</td>\n",
       "    </tr>\n",
       "    <tr>\n",
       "      <th>owner</th>\n",
       "      <td>97,509</td>\n",
       "      <td>85,000</td>\n",
       "      <td>12,000</td>\n",
       "      <td>1,000,000</td>\n",
       "      <td>2442</td>\n",
       "    </tr>\n",
       "    <tr>\n",
       "      <th>supervisor</th>\n",
       "      <td>77,090</td>\n",
       "      <td>76,000</td>\n",
       "      <td>17,000</td>\n",
       "      <td>745,000</td>\n",
       "      <td>1721</td>\n",
       "    </tr>\n",
       "    <tr>\n",
       "      <th>driver</th>\n",
       "      <td>75,154</td>\n",
       "      <td>76,500</td>\n",
       "      <td>12,000</td>\n",
       "      <td>180,000</td>\n",
       "      <td>1621</td>\n",
       "    </tr>\n",
       "    <tr>\n",
       "      <th>sales</th>\n",
       "      <td>87,290</td>\n",
       "      <td>80,000</td>\n",
       "      <td>12,000</td>\n",
       "      <td>471,000</td>\n",
       "      <td>1402</td>\n",
       "    </tr>\n",
       "    <tr>\n",
       "      <th>project manager</th>\n",
       "      <td>92,919</td>\n",
       "      <td>90,000</td>\n",
       "      <td>35,000</td>\n",
       "      <td>460,000</td>\n",
       "      <td>1356</td>\n",
       "    </tr>\n",
       "    <tr>\n",
       "      <th>general manager</th>\n",
       "      <td>92,329</td>\n",
       "      <td>82,200</td>\n",
       "      <td>20,000</td>\n",
       "      <td>500,000</td>\n",
       "      <td>1013</td>\n",
       "    </tr>\n",
       "    <tr>\n",
       "      <th>truck driver</th>\n",
       "      <td>74,833</td>\n",
       "      <td>75,000</td>\n",
       "      <td>14,000</td>\n",
       "      <td>435,000</td>\n",
       "      <td>925</td>\n",
       "    </tr>\n",
       "    <tr>\n",
       "      <th>engineer</th>\n",
       "      <td>96,195</td>\n",
       "      <td>93,000</td>\n",
       "      <td>28,600</td>\n",
       "      <td>265,000</td>\n",
       "      <td>846</td>\n",
       "    </tr>\n",
       "    <tr>\n",
       "      <th>office manager</th>\n",
       "      <td>67,145</td>\n",
       "      <td>70,000</td>\n",
       "      <td>12,000</td>\n",
       "      <td>255,000</td>\n",
       "      <td>841</td>\n",
       "    </tr>\n",
       "    <tr>\n",
       "      <th>director</th>\n",
       "      <td>121,949</td>\n",
       "      <td>100,000</td>\n",
       "      <td>25,000</td>\n",
       "      <td>1,000,000</td>\n",
       "      <td>818</td>\n",
       "    </tr>\n",
       "    <tr>\n",
       "      <th>president</th>\n",
       "      <td>135,781</td>\n",
       "      <td>100,000</td>\n",
       "      <td>27,539</td>\n",
       "      <td>800,000</td>\n",
       "      <td>805</td>\n",
       "    </tr>\n",
       "    <tr>\n",
       "      <th>operations manager</th>\n",
       "      <td>87,972</td>\n",
       "      <td>85,000</td>\n",
       "      <td>16,000</td>\n",
       "      <td>315,000</td>\n",
       "      <td>773</td>\n",
       "    </tr>\n",
       "    <tr>\n",
       "      <th>police officer</th>\n",
       "      <td>90,208</td>\n",
       "      <td>90,000</td>\n",
       "      <td>32,000</td>\n",
       "      <td>307,000</td>\n",
       "      <td>707</td>\n",
       "    </tr>\n",
       "    <tr>\n",
       "      <th>sales manager</th>\n",
       "      <td>105,813</td>\n",
       "      <td>95,000</td>\n",
       "      <td>24,264</td>\n",
       "      <td>1,000,000</td>\n",
       "      <td>660</td>\n",
       "    </tr>\n",
       "    <tr>\n",
       "      <th>store manager</th>\n",
       "      <td>79,297</td>\n",
       "      <td>80,000</td>\n",
       "      <td>24,000</td>\n",
       "      <td>200,000</td>\n",
       "      <td>555</td>\n",
       "    </tr>\n",
       "    <tr>\n",
       "      <th>technician</th>\n",
       "      <td>72,601</td>\n",
       "      <td>75,000</td>\n",
       "      <td>19,000</td>\n",
       "      <td>150,000</td>\n",
       "      <td>534</td>\n",
       "    </tr>\n",
       "    <tr>\n",
       "      <th>vice president</th>\n",
       "      <td>148,227</td>\n",
       "      <td>111,850</td>\n",
       "      <td>15,000</td>\n",
       "      <td>800,000</td>\n",
       "      <td>508</td>\n",
       "    </tr>\n",
       "    <tr>\n",
       "      <th>attorney</th>\n",
       "      <td>112,351</td>\n",
       "      <td>96,200</td>\n",
       "      <td>44,000</td>\n",
       "      <td>560,000</td>\n",
       "      <td>498</td>\n",
       "    </tr>\n",
       "    <tr>\n",
       "      <th>accountant</th>\n",
       "      <td>76,907</td>\n",
       "      <td>75,000</td>\n",
       "      <td>31,870</td>\n",
       "      <td>230,000</td>\n",
       "      <td>479</td>\n",
       "    </tr>\n",
       "    <tr>\n",
       "      <th>mechanic</th>\n",
       "      <td>77,030</td>\n",
       "      <td>75,000</td>\n",
       "      <td>16,000</td>\n",
       "      <td>200,000</td>\n",
       "      <td>461</td>\n",
       "    </tr>\n",
       "  </tbody>\n",
       "</table>\n",
       "</div>"
      ],
      "text/plain": [
       "                      mean  median    min       max  count\n",
       "emp_title                                                 \n",
       "nurse               84,960  82,000 13,000   300,000   4878\n",
       "teacher             75,090  76,000 12,000   156,000   3554\n",
       "manager             85,456  83,000 15,000   500,000   3425\n",
       "owner               97,509  85,000 12,000 1,000,000   2442\n",
       "supervisor          77,090  76,000 17,000   745,000   1721\n",
       "driver              75,154  76,500 12,000   180,000   1621\n",
       "sales               87,290  80,000 12,000   471,000   1402\n",
       "project manager     92,919  90,000 35,000   460,000   1356\n",
       "general manager     92,329  82,200 20,000   500,000   1013\n",
       "truck driver        74,833  75,000 14,000   435,000    925\n",
       "engineer            96,195  93,000 28,600   265,000    846\n",
       "office manager      67,145  70,000 12,000   255,000    841\n",
       "director           121,949 100,000 25,000 1,000,000    818\n",
       "president          135,781 100,000 27,539   800,000    805\n",
       "operations manager  87,972  85,000 16,000   315,000    773\n",
       "police officer      90,208  90,000 32,000   307,000    707\n",
       "sales manager      105,813  95,000 24,264 1,000,000    660\n",
       "store manager       79,297  80,000 24,000   200,000    555\n",
       "technician          72,601  75,000 19,000   150,000    534\n",
       "vice president     148,227 111,850 15,000   800,000    508\n",
       "attorney           112,351  96,200 44,000   560,000    498\n",
       "accountant          76,907  75,000 31,870   230,000    479\n",
       "mechanic            77,030  75,000 16,000   200,000    461"
      ]
     },
     "execution_count": 19,
     "metadata": {},
     "output_type": "execute_result"
    }
   ],
   "source": [
    "pd.options.display.float_format = '{:,.0f}'.format\n",
    "salary_limit = 7e4\n",
    "\n",
    "emp_annual_all = accepted.loc[((accepted['annual_inc'] >= 1.2e5) & (accepted['verification_status'] == 'Verified')) \n",
    "                              | ((accepted['annual_inc'] >= salary_limit) & (accepted['annual_inc'] < 1.2e5)) \n",
    "                              | ((accepted['annual_inc'] < salary_limit) & (accepted['verification_status'] == 'Verified')),\n",
    "                              ['emp_title','annual_inc']].groupby('emp_title')\n",
    "summ_inc = emp_annual_all.agg(['mean','median','min','max', 'count'])\n",
    "summ_inc.columns = summ_inc.columns.levels[1]\n",
    "summ_inc = summ_inc.sort_values(by = ['count','min'], ascending = False)\n",
    "\n",
    "# Filter for professions with more than 450 observations\n",
    "summ_inc = summ_inc[summ_inc['count'] >= 450].sort_values(by = ['count','min'], ascending = False)\n",
    "summ_inc"
   ]
  },
  {
   "cell_type": "markdown",
   "metadata": {},
   "source": [
    "This dataset does have a large diversity in the professions and income level of borrowers. Personally, what I find most interesting is that:\n",
    "- Teacher and Nurse, despite being regarded as respectable professions in some regions in the world, are the 2 most common professions on Lending Club. Their minimum salary is only around \\$12,000, which is lower than US' Poverty Level for individual.\n",
    "- Police officer has a minimum salary of \\$32,000\n",
    "- Many people with annual income higher than \\$400,000 and even \\$1,000,000 still use Lending Club as a way to borrow cheaply. I can dive down into the purpose of the loans later, but that may not offer much benefit for data modeling."
   ]
  },
  {
   "cell_type": "markdown",
   "metadata": {},
   "source": [
    "# Fico Range and grade"
   ]
  },
  {
   "cell_type": "markdown",
   "metadata": {},
   "source": [
    "As we have seen in the previous workbook, income distribution is similar across loan grade while income for grade A is a little bit higher."
   ]
  },
  {
   "cell_type": "code",
   "execution_count": 23,
   "metadata": {
    "collapsed": false
   },
   "outputs": [
    {
     "data": {
      "text/plain": [
       "<matplotlib.axes._subplots.AxesSubplot at 0xb293c50>"
      ]
     },
     "execution_count": 23,
     "metadata": {},
     "output_type": "execute_result"
    },
    {
     "data": {
      "text/plain": [
       "<matplotlib.figure.Figure at 0xc23d518>"
      ]
     },
     "metadata": {},
     "output_type": "display_data"
    },
    {
     "data": {
      "image/png": "[encoded data removed]",
      "text/plain": [
       "<matplotlib.figure.Figure at 0xc231d30>"
      ]
     },
     "metadata": {},
     "output_type": "display_data"
    }
   ],
   "source": [
    "accepted.boxplot(by = 'grade', column = 'fico_range_high')"
   ]
  },
  {
   "cell_type": "markdown",
   "metadata": {},
   "source": [
    "The change in FICO score may have a large impact on the loans. I attempt to plot the status of the loan against the change in FICO score."
   ]
  },
  {
   "cell_type": "code",
   "execution_count": 20,
   "metadata": {
    "collapsed": false
   },
   "outputs": [
    {
     "name": "stderr",
     "output_type": "stream",
     "text": [
      "C:\\Anaconda\\lib\\site-packages\\ipykernel\\__main__.py:7: UserWarning: Boolean Series key will be reindexed to match DataFrame index.\n",
      "C:\\Anaconda\\lib\\site-packages\\ipykernel\\__main__.py:8: UserWarning: Boolean Series key will be reindexed to match DataFrame index.\n"
     ]
    },
    {
     "data": {
      "text/plain": [
       "<matplotlib.text.Text at 0xcce0fd0>"
      ]
     },
     "execution_count": 20,
     "metadata": {},
     "output_type": "execute_result"
    },
    {
     "data": {
      "image/png": "[encoded data removed]",
      "text/plain": [
       "<matplotlib.figure.Figure at 0x1b2b4208>"
      ]
     },
     "metadata": {},
     "output_type": "display_data"
    }
   ],
   "source": [
    "fico_change_loanstat = accepted.loc[accepted.loan_status != 'Current',\n",
    "                                    ['fico_range_high','last_fico_range_high','loan_status','target']]\n",
    "# Change in FICO score\n",
    "fico_change_loanstat['change'] = fico_change_loanstat.last_fico_range_high - fico_change_loanstat.fico_range_high\n",
    "\n",
    "chargeoff = accepted['target'] == 1\n",
    "\n",
    "plt.scatter(x = 'fico_range_high', y = 'change', data = fico_change_loanstat[~chargeoff], color = 'r', alpha = 0.1, label = \"Good loans\")\n",
    "plt.scatter(x = 'fico_range_high', y = 'change', data = fico_change_loanstat[chargeoff], color = 'b', alpha = 0.2, label = \"Bad loans\")\n",
    "plt.legend()\n",
    "plt.xlabel(\"FICO at origination\")\n",
    "plt.ylabel(\"FICO change at observation\")\n"
   ]
  },
  {
   "cell_type": "markdown",
   "metadata": {},
   "source": [
    "We can easily see that Bad Loans can happen regardless of FICO score at origination. However, loans where the FICO score is lower than 750 is disproportionately more likely to become a bad loan. \n",
    "\n",
    "# Modeling\n",
    "With the status of being a Good or Bad Loan our variable of interest, we can approach this as a classification problem. This is still an exploratory phase so please excuse the haphazard approach.\n"
   ]
  },
  {
   "cell_type": "code",
   "execution_count": 104,
   "metadata": {
    "collapsed": true
   },
   "outputs": [],
   "source": [
    "########\n",
    "#\n",
    "# Option 1 - no lookahead\n",
    "# Many of the features in each observation are recorded as of the last payment date and include\n",
    "# total principal payment, total interest payment, etc.\n",
    "# While these data are extremely helpful to classify where a loan is Good or Bad, they are not available at inception\n",
    "# so I do not include them in the dataset\n",
    "#\n",
    "########\n",
    "def GetXY_1(accepted):\n",
    "    train = accepted.loc[(accepted['annual_inc'] < salary_limit) | ((accepted['annual_inc'] >= salary_limit) & (accepted['verification_status'] == 'Verified'))]\n",
    "\n",
    "    train = train[train.loan_status != 'Current']\n",
    "\n",
    "    lookAheadFeatures = [\"out_prncp\",\"out_prncp_inv\",\"total_pymnt\",\"total_pymnt_inv\",\n",
    "                         \"total_rec_prncp\",\"total_rec_int\",\"total_rec_late_fee\",\n",
    "                         \"recoveries\",\"collection_recovery_fee\",\"last_pymnt_d\",\n",
    "                         \"last_pymnt_amnt\",\"last_credit_pull_d\",\n",
    "                         \"last_fico_range_high\",\"collections_12_mths_ex_med\",\"tot_coll_amt\"]\n",
    "\n",
    "    for feature in lookAheadFeatures:\n",
    "        if feature in train.columns:\n",
    "            train = train.drop(feature, axis = 1)\n",
    "\n",
    "    train['early_cr_line_month'] = -round((train.earliest_cr_line - currentDate) / np.timedelta64(1, 'M'))\n",
    "    \n",
    "    # Purpose and employment title will introduce too many variables and may not be that helpful\n",
    "    train = train.drop(['issue_yr','issue_d', 'purpose','emp_title',\n",
    "                        'earliest_cr_line','verification_status'], axis = 1)\n",
    "    train = pd.get_dummies(train, columns = ['term','grade','home_ownership'], drop_first = True)\n",
    "    X = train.drop(['loan_status', 'target'], axis = 1)\n",
    "    y = train.target\n",
    "    \n",
    "    return X, y\n"
   ]
  },
  {
   "cell_type": "code",
   "execution_count": 83,
   "metadata": {
    "collapsed": true
   },
   "outputs": [],
   "source": [
    "########\n",
    "# Option 2\n",
    "# I attempt to replicate the results from Vincenzo\n",
    "# Source: https://www.kaggle.com/vincepota/predicting-customers-who-will-charge-off/notebook\n",
    "########\n",
    "\n",
    "def GetXY_2(accepted):\n",
    "    features = ['loan_amnt', \n",
    "                # 'amt_difference', \n",
    "                'term', 'installment', 'grade','emp_length',\n",
    "                'home_ownership', 'annual_inc',\n",
    "                'purpose', 'dti', \n",
    "                'delinq_2yrs','inq_last_6mths',\n",
    "                # 'pub_rec_cat', 'acc_ratio', \n",
    "                # 'delinq_2yrs_cat', 'inq_last_6mths_cat', 'pub_rec_cat', 'acc_ratio', \n",
    "                'open_acc', 'pub_rec', \n",
    "                # 'initial_list_status',  \n",
    "                'loan_status', 'target'\n",
    "               ]\n",
    "\n",
    "    train = accepted.loc[(accepted['annual_inc'] < salary_limit) | ((accepted['annual_inc'] >= salary_limit) & (accepted['verification_status'] == 'Verified'))]\n",
    "\n",
    "    train = train[train.loan_status != 'Current']\n",
    "    train = train[features]\n",
    "\n",
    "    train = pd.get_dummies(train, columns = ['term','grade','home_ownership','purpose'], drop_first = True)\n",
    "    X = train.drop(['loan_status', 'target'], axis = 1)\n",
    "    y = train.target\n",
    "    \n",
    "    return X, y"
   ]
  },
  {
   "cell_type": "code",
   "execution_count": 99,
   "metadata": {
    "collapsed": true
   },
   "outputs": [],
   "source": [
    "########\n",
    "#\n",
    "# Option 3: Training with lookahead features\n",
    "# We will reach very high AUC with these features but they are impossible to implement in pracice\n",
    "#\n",
    "########\n",
    "\n",
    "def GetXY_3(accepted):\n",
    "    train = accepted.loc[(accepted['annual_inc'] < salary_limit) | ((accepted['annual_inc'] >= salary_limit) & (accepted['verification_status'] == 'Verified'))]\n",
    "    # train = train[train.loan_status != \"Current\"]\n",
    "\n",
    "    train['loan_seasoning'] = (train.issue_d - train.last_pymnt_d)/np.timedelta64(1, 'M')\n",
    "    train['loan_seasoning'] = - train['loan_seasoning']/train['term'].apply(float)\n",
    "\n",
    "    train['early_cr_line_month'] = -round((train.earliest_cr_line - currentDate) / np.timedelta64(1, 'M'))\n",
    "\n",
    "    train[\"pct_\" + 'tot_coll_amt'] = train['tot_coll_amt'] / train['annual_inc']\n",
    "\n",
    "    train['installment_pct'] = train['installment'] * 12 / train['annual_inc'] # installment as a percentage of annual_inc/ 12\n",
    "    train['fico_change'] = train.fico_range_high - train.last_fico_range_high\n",
    "\n",
    "    #train = train.drop(money_amnt + ['installment', 'tot_coll_amt'], axis = 1)\n",
    "    #train = train.drop('ratio_prin', axis = 1)\n",
    "    train = train.drop('last_fico_range_high', axis = 1)\n",
    "\n",
    "    train = train.drop(['issue_yr','issue_d', 'purpose','emp_title',\n",
    "                        'earliest_cr_line','verification_status'], axis = 1)\n",
    "\n",
    "    train = train.drop('last_credit_pull_d', axis = 1)\n",
    "\n",
    "    train = train.drop(['last_pymnt_d','last_pymnt_amnt'],axis = 1)\n",
    "\n",
    "    train = pd.get_dummies(train, columns = ['term','grade','home_ownership'], drop_first = True)\n",
    "    \n",
    "    X = train.drop(['loan_status', 'target'], axis = 1)\n",
    "    y = train.target\n",
    "    return X, y"
   ]
  },
  {
   "cell_type": "markdown",
   "metadata": {},
   "source": [
    "We need to create training and testing data. Following Vincezon ([here](https://www.kaggle.com/vincepota/predicting-customers-who-will-charge-off/notebook)), I use Smote to balance the dataset. SMOTE essentially generates new data points in the neighbor of existing observations using a distance metric. I am concerned that this approach may not put any attention on the relationship between each feature and the target variable."
   ]
  },
  {
   "cell_type": "code",
   "execution_count": 105,
   "metadata": {
    "collapsed": false
   },
   "outputs": [
    {
     "name": "stderr",
     "output_type": "stream",
     "text": [
      "D:\\Anaconda\\lib\\site-packages\\sklearn\\utils\\deprecation.py:77: DeprecationWarning: Function _ratio_float is deprecated; Use a float for 'ratio' is deprecated from version 0.2. The support will be removed in 0.4. Use a dict, str, or a callable instead.\n",
      "  warnings.warn(msg, category=DeprecationWarning)\n"
     ]
    }
   ],
   "source": [
    "from imblearn.over_sampling import SMOTE\n",
    "from sklearn.preprocessing import StandardScaler\n",
    "from sklearn.model_selection import train_test_split\n",
    "\n",
    "scaler = StandardScaler()\n",
    "   \n",
    "sm = SMOTE(random_state = 0, ratio = 1.0) \n",
    "X, y = GetXY_1(accepted)\n",
    "X_train, X_test, y_train, y_test = train_test_split(X, y, test_size=0.4, random_state=0)\n",
    "\n",
    "X_train_scaled = scaler.fit_transform(X_train)\n",
    "X_train_smote, y_train_smote = sm.fit_sample(X_train_scaled, y_train)\n",
    "X_test_scaled = scaler.transform(X_test)\n"
   ]
  },
  {
   "cell_type": "markdown",
   "metadata": {},
   "source": [
    "Following Vincenzo's approach, I write a function to train a number of models and record their statistics. I also output the training time of these models and dump them using the joblib package so that I may use them without having to retrain later."
   ]
  },
  {
   "cell_type": "code",
   "execution_count": 77,
   "metadata": {
    "collapsed": true
   },
   "outputs": [],
   "source": [
    "#\n",
    "# Thanks to Vincenzo Pota for the approach\n",
    "# https://www.kaggle.com/vincepota/predicting-customers-who-will-charge-off\n",
    "#\n",
    "from sklearn import metrics\n",
    "from sklearn.ensemble import RandomForestClassifier, GradientBoostingClassifier\n",
    "from sklearn.naive_bayes import GaussianNB\n",
    "from sklearn.linear_model import SGDClassifier\n",
    "import timeit\n",
    "from sklearn.externals import joblib\n",
    "\n",
    "def run_models(X_train, y_train, X_test, y_test, date_txt, model_type = 'Non-balanced'):\n",
    "    \n",
    "    clfs = {\n",
    "        'SGDClassifier' : SGDClassifier(loss=\"log\"),\n",
    "        # Logistic Regression L1 takes more than an hour to train\n",
    "        'GradientBoosting': GradientBoostingClassifier(max_depth= 6, n_estimators=100, max_features = 0.3),\n",
    "        'GaussianNB': GaussianNB(),\n",
    "        'RandomForestClassifier': RandomForestClassifier(n_estimators=500, max_depth = 3)\n",
    "    }\n",
    "    cols = ['model','matthews_corrcoef', 'roc_auc_score', 'precision_score', 'recall_score','f1_score']\n",
    "\n",
    "    models_report = pd.DataFrame(columns = cols)\n",
    "    conf_matrix = dict()\n",
    "\n",
    "    for clf, clf_name in zip(clfs.values(), clfs.keys()):\n",
    "        start = timeit.default_timer()\n",
    "        clf.fit(X_train, y_train)\n",
    "\n",
    "        y_pred = clf.predict(X_test)\n",
    "        y_score = clf.predict_proba(X_test)[:,1]\n",
    "\n",
    "        stop = timeit.default_timer()\n",
    "        print('Run time is', stop - start)\n",
    "        print('computing {} - {} '.format(clf_name, model_type))\n",
    "\n",
    "        tmp = pd.Series({'model_type': model_type,\n",
    "                         'model': clf_name,\n",
    "                         'roc_auc_score' : metrics.roc_auc_score(y_test, y_score),\n",
    "                         'matthews_corrcoef': metrics.matthews_corrcoef(y_test, y_pred),\n",
    "                         # Precision and Recall using the default threshold of 0.5\n",
    "                         'precision_score': metrics.precision_score(y_test, y_pred),\n",
    "                         'recall_score': metrics.recall_score(y_test, y_pred),\n",
    "                         'f1_score': metrics.f1_score(y_test, y_pred)})\n",
    "\n",
    "        models_report = models_report.append(tmp, ignore_index = True)\n",
    "        conf_matrix[clf_name] = pd.crosstab(y_test, y_pred, rownames=['True'], colnames= ['Predicted'], margins=False)\n",
    "        fpr, tpr, thresholds = metrics.roc_curve(y_test, y_score, drop_intermediate = False, pos_label = 1)\n",
    "        \n",
    "        # Dump model as file to be used later \n",
    "        logistic = joblib.dump(clf, clf_name + '.'+ date_txt + '.pkl')\n",
    "        np.savetxt(clf_name + \"_y_score\" + date_txt + \".csv\", y_score, delimiter=\",\")\n",
    "        \n",
    "        plt.figure(1, figsize=(6,6))\n",
    "        plt.xlabel('false positive rate')\n",
    "        plt.ylabel('true positive rate')\n",
    "        plt.title('ROC curve - {}'.format(model_type))\n",
    "        plt.plot(fpr, tpr, label = clf_name )\n",
    "        plt.legend(loc=2, prop={'size':11})\n",
    "    plt.plot([0,1],[0,1], color = 'black')\n",
    "    \n",
    "    return models_report, conf_matrix, clfs"
   ]
  },
  {
   "cell_type": "code",
   "execution_count": 106,
   "metadata": {
    "collapsed": false
   },
   "outputs": [
    {
     "name": "stderr",
     "output_type": "stream",
     "text": [
      "D:\\Anaconda\\lib\\site-packages\\sklearn\\linear_model\\stochastic_gradient.py:128: FutureWarning: max_iter and tol parameters have been added in <class 'sklearn.linear_model.stochastic_gradient.SGDClassifier'> in 0.19. If both are left unset, they default to max_iter=5 and tol=None. If tol is not None, max_iter defaults to max_iter=1000. From 0.21, default max_iter will be 1000, and default tol will be 1e-3.\n",
      "  \"and default tol will be 1e-3.\" % type(self), FutureWarning)\n"
     ]
    },
    {
     "name": "stdout",
     "output_type": "stream",
     "text": [
      "Run time is 0.0522582002231502\n",
      "computing SGDClassifier - Balanced \n",
      "Run time is 11.983705579143134\n",
      "computing GradientBoosting - Balanced \n",
      "Run time is 0.07172745181014761\n",
      "computing GaussianNB - Balanced \n",
      "Run time is 17.65800105557537\n",
      "computing RandomForestClassifier - Balanced \n"
     ]
    },
    {
     "data": {
      "image/png": "[encoded data removed]",
      "text/plain": [
       "<matplotlib.figure.Figure at 0x206055ddac8>"
      ]
     },
     "metadata": {},
     "output_type": "display_data"
    }
   ],
   "source": [
    "date_txt = '0219_option_1'\n",
    "models_report, conf_matrix, clfs = run_models(X_train_smote, y_train_smote, X_test_scaled, y_test, date_txt, 'Balanced')"
   ]
  },
  {
   "cell_type": "markdown",
   "metadata": {},
   "source": [
    "The highest AUC, though still low, is attained by GBM model. Let's take a closer look at  Gradient Boosting results."
   ]
  },
  {
   "cell_type": "code",
   "execution_count": 107,
   "metadata": {
    "collapsed": false
   },
   "outputs": [
    {
     "data": {
      "text/plain": [
       "(0.0, 1.0)"
      ]
     },
     "execution_count": 107,
     "metadata": {},
     "output_type": "execute_result"
    },
    {
     "data": {
      "image/png": "[encoded data removed]",
      "text/plain": [
       "<matplotlib.figure.Figure at 0x20606222e48>"
      ]
     },
     "metadata": {},
     "output_type": "display_data"
    }
   ],
   "source": [
    "y_score = clfs['GradientBoosting'].predict_proba(X_test_scaled)[:,1]\n",
    "\n",
    "# Source:\n",
    "# http://scikit-learn.org/stable/auto_examples/model_selection/plot_precision_recall.html\n",
    "#\n",
    "from sklearn.metrics import precision_recall_curve\n",
    "precision, recall, _ = precision_recall_curve(y_test, y_score)\n",
    "\n",
    "plt.step(recall, precision, color='b', alpha=0.2,\n",
    "         where='post')\n",
    "plt.fill_between(recall, precision, step='post', alpha=0.2,\n",
    "                 color='b')\n",
    "\n",
    "plt.xlabel('Recall')\n",
    "plt.ylabel('Precision')\n",
    "plt.ylim([0.0, 1.05])\n",
    "plt.xlim([0.0, 1.0])"
   ]
  },
  {
   "cell_type": "markdown",
   "metadata": {},
   "source": [
    "Based on the graph above, if we want to reach a recall of 100%, our precision will be around 30%, ie: we may catch all the bad loans, but every time we predict a loan is a bad loan, we may only be accurate about 30% of the time. "
   ]
  },
  {
   "cell_type": "code",
   "execution_count": 108,
   "metadata": {
    "collapsed": false
   },
   "outputs": [
    {
     "data": {
      "text/html": [
       "<div>\n",
       "<style>\n",
       "    .dataframe thead tr:only-child th {\n",
       "        text-align: right;\n",
       "    }\n",
       "\n",
       "    .dataframe thead th {\n",
       "        text-align: left;\n",
       "    }\n",
       "\n",
       "    .dataframe tbody tr th {\n",
       "        vertical-align: top;\n",
       "    }\n",
       "</style>\n",
       "<table border=\"1\" class=\"dataframe\">\n",
       "  <thead>\n",
       "    <tr style=\"text-align: right;\">\n",
       "      <th></th>\n",
       "      <th>model</th>\n",
       "      <th>matthews_corrcoef</th>\n",
       "      <th>roc_auc_score</th>\n",
       "      <th>precision_score</th>\n",
       "      <th>recall_score</th>\n",
       "      <th>f1_score</th>\n",
       "      <th>model_type</th>\n",
       "    </tr>\n",
       "  </thead>\n",
       "  <tbody>\n",
       "    <tr>\n",
       "      <th>0</th>\n",
       "      <td>SGDClassifier</td>\n",
       "      <td>0.10</td>\n",
       "      <td>0.57</td>\n",
       "      <td>0.28</td>\n",
       "      <td>0.55</td>\n",
       "      <td>0.37</td>\n",
       "      <td>Balanced</td>\n",
       "    </tr>\n",
       "    <tr>\n",
       "      <th>1</th>\n",
       "      <td>GradientBoosting</td>\n",
       "      <td>0.13</td>\n",
       "      <td>0.66</td>\n",
       "      <td>0.41</td>\n",
       "      <td>0.16</td>\n",
       "      <td>0.23</td>\n",
       "      <td>Balanced</td>\n",
       "    </tr>\n",
       "    <tr>\n",
       "      <th>2</th>\n",
       "      <td>GaussianNB</td>\n",
       "      <td>0.15</td>\n",
       "      <td>0.61</td>\n",
       "      <td>0.31</td>\n",
       "      <td>0.55</td>\n",
       "      <td>0.40</td>\n",
       "      <td>Balanced</td>\n",
       "    </tr>\n",
       "    <tr>\n",
       "      <th>3</th>\n",
       "      <td>RandomForestClassifier</td>\n",
       "      <td>0.18</td>\n",
       "      <td>0.65</td>\n",
       "      <td>0.33</td>\n",
       "      <td>0.59</td>\n",
       "      <td>0.42</td>\n",
       "      <td>Balanced</td>\n",
       "    </tr>\n",
       "  </tbody>\n",
       "</table>\n",
       "</div>"
      ],
      "text/plain": [
       "                    model  matthews_corrcoef  roc_auc_score  precision_score  \\\n",
       "0           SGDClassifier               0.10           0.57             0.28   \n",
       "1        GradientBoosting               0.13           0.66             0.41   \n",
       "2              GaussianNB               0.15           0.61             0.31   \n",
       "3  RandomForestClassifier               0.18           0.65             0.33   \n",
       "\n",
       "   recall_score  f1_score model_type  \n",
       "0          0.55      0.37   Balanced  \n",
       "1          0.16      0.23   Balanced  \n",
       "2          0.55      0.40   Balanced  \n",
       "3          0.59      0.42   Balanced  "
      ]
     },
     "execution_count": 108,
     "metadata": {},
     "output_type": "execute_result"
    }
   ],
   "source": [
    "models_report"
   ]
  },
  {
   "cell_type": "markdown",
   "metadata": {},
   "source": [
    "The value for Precision and Recall may be misleading because it was reported using a default threshold of 0.5."
   ]
  },
  {
   "cell_type": "markdown",
   "metadata": {
    "collapsed": true
   },
   "source": [
    "# Future step\n",
    "\n",
    "We have constructed a model that can predict whether the loan will be bad loan or not, even though the model does not have stellar performance (AUC around 0.66). I plan to improve this model using 2 approaches:\n",
    "- Perform additional feature engineering. \n",
    "- Further calibrate existing model \n",
    "\n",
    "From my experiences, given that the AUC of our rough model is around 0.66, an improvement of 10% to 0.76 would be quite a good achievement already. It will be difficult to improve it to 0.80 or 0.90. \n"
   ]
  }
 ],
 "metadata": {
  "kernelspec": {
   "display_name": "Python [Anaconda]",
   "language": "python",
   "name": "Python [Anaconda]"
  },
  "language_info": {
   "codemirror_mode": {
    "name": "ipython",
    "version": 3
   },
   "file_extension": ".py",
   "mimetype": "text/x-python",
   "name": "python",
   "nbconvert_exporter": "python",
   "pygments_lexer": "ipython3",
   "version": "3.5.2"
  }
 },
 "nbformat": 4,
 "nbformat_minor": 2
}
